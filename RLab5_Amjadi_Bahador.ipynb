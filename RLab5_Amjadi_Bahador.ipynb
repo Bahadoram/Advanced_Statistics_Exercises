{
 "cells": [
  {
   "cell_type": "markdown",
   "id": "2b635424",
   "metadata": {},
   "source": [
    "## SET 5\n",
    "### Bahador Amjadi\n",
    "### 2040470"
   ]
  },
  {
   "cell_type": "markdown",
   "id": "079a7cfd",
   "metadata": {},
   "source": [
    "#### please install the essential packages before running the code"
   ]
  },
  {
   "cell_type": "code",
   "execution_count": 1,
   "id": "7fb4a3ea",
   "metadata": {},
   "outputs": [],
   "source": [
    "# library(ggplot2)\n",
    "# library(reshape2)\n",
    "# library(lubridate)\n",
    "# library(tibble)\n",
    "# library(dplyr)\n",
    "# library(lattice)"
   ]
  },
  {
   "cell_type": "code",
   "execution_count": 2,
   "id": "4aab6ce7",
   "metadata": {},
   "outputs": [],
   "source": [
    "# install.packages(\"gridExtra\")"
   ]
  },
  {
   "cell_type": "code",
   "execution_count": 3,
   "id": "d326b33c",
   "metadata": {},
   "outputs": [],
   "source": [
    "# library(gridExtra)"
   ]
  },
  {
   "cell_type": "markdown",
   "id": "bd5d613f",
   "metadata": {},
   "source": [
    "### Exercise 1"
   ]
  },
  {
   "cell_type": "code",
   "execution_count": 4,
   "id": "e7092952",
   "metadata": {},
   "outputs": [],
   "source": [
    "mean.finder <- function(numbers, alpha, lambda){\n",
    "    an.mean  <<- alpha/lambda;  an.var  <<- alpha/(lambda**2)  \n",
    "    num.mean <<- mean(numbers); num.var <<- var(numbers)\n",
    "    num.median <<- median(numbers)}\n",
    "\n",
    "#a function that finds 95 credibility interval\n",
    "cred.finder <- function(post.function){\n",
    "    k <-0; integral <-1; interval <- 0.95\n",
    "    while (integral > 0.95){k <- k + 0.01; integral <- integrate(post.function, k,8-k)$value}\n",
    "    return (c(k, 1-k))}\n",
    "\n",
    "post.func <- function(x){return(dgamma(x, shape = alpha.pos ,rate= lambda.pos))}"
   ]
  },
  {
   "cell_type": "code",
   "execution_count": 5,
   "id": "27cf1934",
   "metadata": {},
   "outputs": [],
   "source": [
    "# a function that plots prior, posterior, likelihood at the same time\n",
    "all.plotter <- function(numbers, prior, ylim){\n",
    "    if (prior == 'Jeffrey'){               #jeffrey prior: alpha:0.5, lambda: 0 \n",
    "        alpha.prior <<- 0.5; lambda.prior <<- 0\n",
    "        alpha.pos  <<- sum(numbers)    + 0.5\n",
    "        lambda.pos <<- length(numbers)}\n",
    "    else if(prior == 'Uniform'){           #uniform prior: alpha:1, lambda: 0 \n",
    "        alpha.prior <<- 1; lambda.prior <<- 0\n",
    "        alpha.pos  <<- sum(numbers)    + 1\n",
    "        lambda.pos <<- length(numbers)}  \n",
    "    else {cat(\"unrecognized prior function!\")}\n",
    "        \n",
    "    q1 = qgamma(0.05,shape = alpha.pos ,scale = 1/lambda.pos)\n",
    "    q2 = qgamma(0.95,shape = alpha.pos ,scale= 1/lambda.pos)\n",
    "        \n",
    "    mean.finder(numbers, alpha.pos, lambda.pos)\n",
    "#     a <<- cred.finder(post.func)\n",
    "    p.post  <- dgamma(x=p,shape = alpha.pos ,rate= lambda.pos)\n",
    "    plot(p, p.post , col=\"black\",lwd = 3, type=\"l\",ylim = ylim,xlab=\"P\", ylab=\"Density\")\n",
    "    abline(v=an.mean,    col=\"firebrick3\" )\n",
    "    abline(v=an.median,  col=\"navyblue\" )\n",
    "    abline(v=num.mean,   col=\"green4\" )\n",
    "    abline(v=q1,   col=\"snow4\" ,lty = 2)\n",
    "    abline(v=q2,   col=\"snow4\" ,lty = 2)\n",
    "    \n",
    "    legend(4,0.6, col=c(\"firebrick3\", \"navyblue\", \"green4\",\"snow4\",\"snow4\"),box.lty=0,lty=1:1,cex=1.2,\n",
    "            legend=c(parse(text = paste0('Analytical.Mean==',    round(an.mean, 3))),\n",
    "                     parse(text = paste0('Analytical.Median==',  round(an.median,3))),\n",
    "                     parse(text = paste0('Numerical.Median==',   round(num.mean, 3))),\n",
    "                     parse(text = paste0('q(0.05)==' ,           round(q1,3))),\n",
    "                     parse(text = paste0('q(0.095)==',           round(q2,3)))))    \n",
    "    text(5.05,0.2 , col=\"red\",\n",
    "         lwd = 1, pos=4, cex=1.2, paste(\"Analytical Variance: \", an.var , sep=\"\"))\n",
    "    text(5.05,0.25 , col=\"red\",\n",
    "         lwd = 1, pos=4, cex= 1.2, paste(\"Numerical Variance: \", num.var , sep=\"\"))\n",
    "    title(main=paste(\"Posterior Dist,\", prior, \"Prior\"), line=0.7, cex.main=1.4)}"
   ]
  },
  {
   "cell_type": "code",
   "execution_count": 6,
   "id": "40f7477d",
   "metadata": {},
   "outputs": [
    {
     "ename": "ERROR",
     "evalue": "Error in abline(v = an.median, col = \"navyblue\"): object 'an.median' not found\n",
     "output_type": "error",
     "traceback": [
      "Error in abline(v = an.median, col = \"navyblue\"): object 'an.median' not found\nTraceback:\n",
      "1. all.plotter(numbers, \"Uniform\", ylim)",
      "2. abline(v = an.median, col = \"navyblue\")   # at line 21 of file <text>",
      "3. int_abline(a = a, b = b, h = h, v = v, untf = untf, ...)"
     ]
    },
    {
     "data": {
      "image/png": "[encoded data removed]",
      "text/plain": [
       "plot without title"
      ]
     },
     "metadata": {},
     "output_type": "display_data"
    }
   ],
   "source": [
    "#fixing some global paramteres\n",
    "p     <<- seq(from= 0,to=8,length.out = 100)\n",
    "options(repr.plot.width=11, repr.plot.height =6)  #changing size of plots\n",
    "\n",
    "numbers <- c(4,1,3,1,3)\n",
    "ylim <- c(0,0.9)  #setting the y axis range\n",
    "#all.plotter(n,r, prior function, E[x], STD[x]), in case of unifrom dummy exp and std\n",
    "all.plotter(numbers,'Uniform', ylim)"
   ]
  },
  {
   "cell_type": "code",
   "execution_count": null,
   "id": "83b596d3",
   "metadata": {},
   "outputs": [],
   "source": [
    "all.plotter(numbers,'Jeffrey', ylim)"
   ]
  },
  {
   "cell_type": "code",
   "execution_count": null,
   "id": "7c244d44",
   "metadata": {},
   "outputs": [],
   "source": [
    "set.seed(205)\n",
    "q1 <- qnorm(0.05,num.mean,sqrt(num.var))\n",
    "q2 <- qnorm(0.95,num.mean,sqrt(num.var))\n",
    "plot(seq(from=-2,to=8,length.out=200), dnorm(seq(from=-2,to=8,length.out=200),num.mean, sqrt(num.var)), \n",
    "     col=\"black\",lwd = 3, ylim=c(0,0.3),type=\"l\", xlab=\"P\", ylab=\"Density\")\n",
    "abline(v=num.mean,    col=\"firebrick3\")\n",
    "abline(v=q1,          col=\"snow4\",    lty = 2)\n",
    "abline(v=q2,          col=\"snow4\",    lty = 2)\n",
    "\n",
    "legend(4,0.25, col=c(\"firebrick3\", \"snow4\",\"snow4\" ), box.lty=0, lty=1:1, cex=1.2,\n",
    "            legend=c(parse(text = paste0('Mean==',  round(num.mean, 3))),\n",
    "                     parse(text = paste0('q(0.05)==', q1  )),\n",
    "                     parse(text = paste0('q(0.95)==', q2  ))))  \n",
    "title(main=paste(\"Normal Distribution\"), line=0.7, cex.main=1.4)"
   ]
  },
  {
   "cell_type": "markdown",
   "id": "4b7d0197",
   "metadata": {},
   "source": [
    "### Exercise 2"
   ]
  },
  {
   "cell_type": "code",
   "execution_count": null,
   "id": "7f0d4f24",
   "metadata": {},
   "outputs": [],
   "source": [
    "p.log.like <- function(alpha,beta, data){\n",
    "    logL <- 0.0\n",
    "    for (x in data) {logL <- logL - log(1 + ((x-alpha)/beta)**2)}\n",
    "return(logL)}"
   ]
  },
  {
   "cell_type": "code",
   "execution_count": null,
   "id": "7db5585d",
   "metadata": {},
   "outputs": [],
   "source": [
    "options(repr.plot.width=12, repr.plot.height =12)  #changing size of plots\n",
    "#For the case in which both alpha and beta are unknown, we add a loop on beta to the former case of only unknown beta which\n",
    "# was discussed in the lecture note. then we find the most probable value and the corresponding alpha and beta in a 2d matrix\n",
    "#for random sampling we choose random theata (since theta dist. is uniform), \n",
    "#according to x = beta * tan(theta) + alpha then calculate the corresponding x\n",
    "theta        <- runif(1000, min = 0, max = pi)\n",
    "data         <- 1 * tan(theta) + 1    #we assume the true alpha and beta are alpha=1 and beta=1\n",
    "beta.list    <- seq(from= 0.1,to=10, length.out=50)\n",
    "size.list    <- c(1,2,3,5,7,10,20,35,50)     # a list for the different n size we want to loop on\n",
    "\n",
    "all.log.star <- vector()   #stores best alpha for different values of beta\n",
    "all.alpha    <- vector()   #stores best probs. for different values if beta\n",
    "\n",
    "n.sample     <- 200\n",
    "x.min        <- -6; x.max <- +6\n",
    "h            <- (x.max - x.min)/n.sample\n",
    "alpha        <- seq(from=x.min, by=h, length.out=n.sample+1)\n",
    "\n",
    "set.seed(206)\n",
    "par(mfrow=c(3,3))\n",
    "for (n.plot in size.list){   #we find the best beta for each data set size\n",
    "    dt       <- data[1:n.plot]\n",
    "    for (beta in beta.list){\n",
    "        # Get the LogLikelihood\n",
    "        y.log.star   <- p.log.like(alpha ,beta, dt)   #for a specific beta\n",
    "            y.post.star  <- exp(y.log.star)\n",
    "\n",
    "        \n",
    "        # - Find the maximum prob and the storing its corresponding alpha for a specific beta\n",
    "        index.max    <- which.max(y.log.star)\n",
    "        alpha.max    <- alpha [index.max]\n",
    "        all.log.star <- append(all.log.star, max(y.log.star))\n",
    "        all.alpha    <- append(all.alpha, alpha.max)\n",
    "    #   all.beta     <- no need to store beta values, since we already have them in beta.list\n",
    "        }\n",
    "        # - get the exponential and normalize the posterior\n",
    "    gloabl.index.max    <- which.max(all.log.star)  #index of global best prob. for a specific data size\n",
    "    global.prob.max     <- all.log.star[gloabl.index.max]  #value of global best prob. for a specific data size\n",
    "    global.alpha.max    <- all.alpha   [gloabl.index.max]  #best global alpha for a specific data size\n",
    "    global.beta.max     <- beta.list   [gloabl.index.max]  #best global beta for a specific data size\n",
    "    \n",
    "    y.log.star   <- p.log.like(alpha , global.beta.max, dt)  #finding pdf of alpha for the best beta\n",
    "    y.post.star  <- exp(y.log.star)\n",
    "    y.post       <- y.post.star/(h*sum(y.post.star)) \n",
    "    \n",
    "    plot(alpha , y.post , type=\"l\", lwd=2, col=\"firebrick3\")\n",
    "    dt.mean <- mean(dt)\n",
    "    abline(v=dt.mean , lty=2, lwd=2)\n",
    "    y.band <- (max(y.post) - min(y.post))*0.05\n",
    "    text(-6, max(y.post)+y.band -0.03 ,    col=\"navy\", lwd = 2, pos=4,\n",
    "    paste(\"Data size: \", n.plot , sep=\"\"))\n",
    "    text(-6, max(y.post)-y.band -0.03,    col=\"navy\", lwd = 2, pos=4,\n",
    "    sprintf(\"<x>: %.2f\", dt.mean))\n",
    "    text(-6, max(y.post)-3*y.band-0.03 ,  col=\"navy\", lwd = 2, pos=4,\n",
    "    sprintf(\"MAX(P): %.2f\", alpha.max))\n",
    "    title(main=paste(\"Data Size =\", n.plot, \", Beta fixed on its Best Value\"), line=0.7, cex.main=1.5)}"
   ]
  },
  {
   "cell_type": "code",
   "execution_count": null,
   "id": "cebd216a",
   "metadata": {},
   "outputs": [],
   "source": [
    "# Now we investigate the heatmap of prob. as a function of alpha and beta for each size\n",
    "# For easier illustration we limit ourselves to 4 different data size\n",
    "options(repr.plot.width=10, repr.plot.height =6)  #changing size of plots\n",
    "set.seed(206)\n",
    "\n",
    "#a function the helps plotting multiple heatmapas for differnt dize of data\n",
    "level.finder <- function(data.size){\n",
    "    theta        <- runif(1000, min = 0, max = pi)\n",
    "    data         <- 1 * tan(theta) + 1    #we assume the true alpha and beta are alpha=1 and beta=1\n",
    "    dt        <- data[1:data.size]\n",
    "    n.sample  <- 10\n",
    "    x.min     <- -6; x.max <- +6\n",
    "    h         <- (x.max - x.min)/n.sample\n",
    "    \n",
    "    alpha     <- seq(from=x.min, by=h, length.out=n.sample+1)\n",
    "    beta      <- seq(1,10, length.out=n.sample)\n",
    "    prob      <- vector()\n",
    "    \n",
    "    for (a in alpha){\n",
    "        for (b in beta){\n",
    "            y.log.star <- p.log.like(a , b, dt)\n",
    "            y.post.star<- exp(y.log.star)\n",
    "            prob       <- append(prob, y.post.star) }}\n",
    "    \n",
    "    df        <- expand.grid(alpha=alpha, beta=beta)\n",
    "    df$prob   <- prob\n",
    "    return(levelplot(prob ~ alpha*beta, data=df  ,xlab=\"alpha\",\n",
    "        main=paste(\"Prob. Heatmap, Data Size =\",data.size)))  }\n",
    "\n",
    "#constructing levelplot for diffenet size of data, grid-based graphs are hard to work with in a loop\n",
    "p1 <- level.finder(data.size = 1)\n",
    "p2 <- level.finder(data.size = 3)\n",
    "p3 <- level.finder(data.size = 7)\n",
    "p4 <- level.finder(data.size = 15)\n",
    "p5 <- level.finder(data.size = 25)\n",
    "p6 <- level.finder(data.size = 50)\n",
    "grid.arrange(p1, p2,p3,p4,p5,p6 ,ncol=3)"
   ]
  },
  {
   "cell_type": "markdown",
   "id": "3f68ff0b",
   "metadata": {},
   "source": [
    "### Exercise 3, Part A"
   ]
  },
  {
   "cell_type": "code",
   "execution_count": null,
   "id": "3f5ec20d",
   "metadata": {},
   "outputs": [],
   "source": [
    "signal <-     function(x, a, b, x0, w, t) {t * (a*exp(-(x-x0)**2/(2*w**2)) + b)}\n",
    "#==================================================================================\n",
    "log.post <-   function(d, x, a, b, x0, w, t) {\n",
    "    if(a<0 || b <0) {return(-Inf)} # the effect of the prior\n",
    "    sum(dpois(d, lambda=signal(x, a, b, x0, w, t), log=TRUE))}\n",
    "#==================================================================================\n",
    "#a function that calculates z, given w, xdat, ddat and s.true\n",
    "z.finder.w <-   function(w, A.true, B.true, x0, Delta.t, a, b){\n",
    "    xdat <-   seq(from=-7, to=7, by=0.5*w)\n",
    "    s.true <- signal(xdat , A.true , B.true , x0, w, Delta.t)\n",
    "    ddat <- rpois(length(s.true), s.true)    \n",
    "    # Compute log unnormalized posterior , z = ln Pˆ*(a,b|D), on a regular grid\n",
    "    z <- matrix(data=NA, nrow=length(a), ncol=length(b))\n",
    "    for(j in 1:length(a)) {\n",
    "    for(k in 1:length(b)) {\n",
    "    z[j,k] <- log.post(ddat , xdat , a[j], b[k], x0, w, Delta.t)}}\n",
    "    z <- z - max(z) }\n",
    "#==================================================================================\n",
    "#a function that finds a and b and sets the x,y limits\n",
    "lim.finder <- function(alim, blim){\n",
    "Nsamp <- 100\n",
    "uniGrid <- seq(from=1/(2*Nsamp),\n",
    "to=1-1/(2*Nsamp), by=1/Nsamp)\n",
    "delta_a <<- diff(alim)/Nsamp\n",
    "delta_b <<- diff(blim)/Nsamp\n",
    "a <<- alim[1] + diff(alim)*uniGrid\n",
    "b <<- blim[1] + diff(blim)*uniGrid }"
   ]
  },
  {
   "cell_type": "code",
   "execution_count": null,
   "id": "4a02e83f",
   "metadata": {},
   "outputs": [],
   "source": [
    "x0      <- 0      # Signal peak\n",
    "A.true  <- 2  # Signal amplitude\n",
    "B.true  <- 1  # Background amplitude\n",
    "Delta.t <- 5 # Exposure time\n",
    "w.list  <- c(0.1,0.25,1,2,3)   #resolution different values"
   ]
  },
  {
   "cell_type": "code",
   "execution_count": null,
   "id": "c2e7938b",
   "metadata": {},
   "outputs": [],
   "source": [
    "options(repr.plot.width=8, repr.plot.height =10)  #changing size of plots\n",
    "par(mfrow=c(3,2))\n",
    "set.seed(205)\n",
    "\n",
    "for (w in w.list){\n",
    "# - Generate the observed data\n",
    "xdat <-   seq(from=-7, to=7, by=0.5*w)\n",
    "s.true <- signal(xdat , A.true , B.true , x0, w, Delta.t)\n",
    "ddat <- rpois(length(s.true), s.true)\n",
    "xplot <- seq(from=min(xdat), to=max(xdat), by=0.05*w)\n",
    "splot <- signal(xplot , A.true , B.true , x0, w, Delta.t)\n",
    "plot(xplot , splot ,xlab=\"x\", ylab=\"Signal+Background counts\", type ='l')\n",
    "par(new=TRUE)\n",
    "xdat.off <- xdat -0.25\n",
    "plot(xdat.off, ddat , type=\"s\",col=\"firebrick3\", lwd=2,xlim=range(xplot), ylim=range(c(splot , ddat)))\n",
    "title(main=paste(\"Resolution (W) =\", w), line=0.7, cex.main=1)}"
   ]
  },
  {
   "cell_type": "code",
   "execution_count": null,
   "id": "bf2bf1de",
   "metadata": {},
   "outputs": [],
   "source": [
    "alim <- c(0, 4)\n",
    "blim <- c(0, 2.6)\n",
    "lim.finder(alim, blim)   #this function finds a and b"
   ]
  },
  {
   "cell_type": "code",
   "execution_count": null,
   "id": "f39a0bdc",
   "metadata": {},
   "outputs": [],
   "source": [
    "set.seed(205)\n",
    "par(mfrow=c(3,2))\n",
    "for (w in w.list){\n",
    "z <- z.finder.w(w, A.true, B.true, x0, Delta.t, a, b)  \n",
    "# Plot unnormalized 2D posterior as contours.\n",
    "contour(a, b, exp(z),nlevels = 5,labcex = 0.5,lwd = 2,xlab=\"amplitude, A\",ylab=\"background, B\")\n",
    "abline(v=2,h=1,col=\"grey\")\n",
    "title(main=paste(\"Resolution (W) =\", w), line=0.7, cex.main=1)}"
   ]
  },
  {
   "cell_type": "code",
   "execution_count": null,
   "id": "8adfcb2a",
   "metadata": {},
   "outputs": [],
   "source": [
    "set.seed(205)\n",
    "par(mfrow=c(5,2))\n",
    "options(repr.plot.width=8, repr.plot.height =15)  #changing size of plots\n",
    "for (w in w.list){\n",
    "z <- z.finder.w(w, A.true, B.true, x0, Delta.t, a, b)\n",
    "    \n",
    "# Compute normalized marginalized posteriors , P(a|D) and P(b|D)\n",
    "# by summing over other parameter. Normalize by gridding.\n",
    "p_a_D <- apply(exp(z), 1, sum)\n",
    "p_a_D <- p_a_D/(delta_a*sum(p_a_D))\n",
    "p_b_D <- apply(exp(z), 2, sum)\n",
    "p_b_D <- p_b_D/(delta_b*sum(p_b_D))\n",
    "# Compute normalized conditional posteriors , P(a|b,D) and P(b|a,D)\n",
    "# using true values of conditioned parameters. Vectorize(func , par)\n",
    "# makes a vectorized function out of func in the parameter par.\n",
    "p_a_bD <- exp(Vectorize(log.post , \"a\")(ddat , xdat , a, B.true ,\n",
    "x0, w, Delta.t))\n",
    "p_a_bD <- p_a_bD/(delta_a*sum(p_a_bD))\n",
    "p_b_aD <- exp(Vectorize(log.post , \"b\")(ddat , xdat , A.true , b,\n",
    "x0, w, Delta.t))\n",
    "p_b_aD <- p_b_aD/(delta_b*sum(p_b_aD))\n",
    "    \n",
    "# par(mfrow=c(2,2), mgp=c(2,0.8,0), mar=c(3.5,3.5,1,1), oma=0.1*c(1,1,1,1))\n",
    "# Plot the 1D marginalized posteriors\n",
    "plot(b, p_b_D, xlab=\"background , B\", yaxs=\"i\",\n",
    "ylim=1.05*c(0,max(p_b_D, p_b_aD)), ylab=\"P(B | D)  and  P(B | A,D)\",\n",
    "type=\"l\", lwd=2)\n",
    "title(main=paste(\"Resolution (W) =\", w), line=0.7, cex.main=1)\n",
    "lines(b, p_b_aD, lwd=2, lty=2)\n",
    "abline(v=B.true , col=\"grey\")\n",
    "plot(a, p_a_D, xlab=\"amplitude , A\", yaxs=\"i\",\n",
    "ylim=1.05*c(0,max(p_a_D, p_a_bD)), ylab=\"P(A | D)  and  P(A | B,D)\",\n",
    "type=\"l\", lwd=2)\n",
    "lines(a, p_a_bD, lwd=2, lty=2)\n",
    "abline(v=A.true , col=\"grey\")\n",
    "title(main=paste(\"Resolution (W) =\", w), line=0.7, cex.main=1)}"
   ]
  },
  {
   "cell_type": "code",
   "execution_count": null,
   "id": "e95d81ff",
   "metadata": {},
   "outputs": [],
   "source": [
    "set.seed(205)\n",
    "for (w in c(0.1,0.25,1,2,3)){\n",
    "z <- z.finder.w(w, A.true, B.true, x0, Delta.t, a, b)  \n",
    "    \n",
    "# Compute normalized marginalized posteriors , P(a|D) and P(b|D)\n",
    "# by summing over other parameter. Normalize by gridding.\n",
    "p_a_D <- apply(exp(z), 1, sum)\n",
    "p_a_D <- p_a_D/(delta_a*sum(p_a_D))\n",
    "p_b_D <- apply(exp(z), 2, sum)\n",
    "p_b_D <- p_b_D/(delta_b*sum(p_b_D))\n",
    "# Compute mean , standard deviation , covariance , correlation , of A and B\n",
    "mean_a <- delta_a * sum(a * p_a_D)\n",
    "mean_b <- delta_b * sum(b * p_b_D)\n",
    "sd_a <- sqrt( delta_a * sum((a-mean_a)**2 * p_a_D) )\n",
    "sd_b <- sqrt( delta_b * sum((b-mean_b)**2 * p_b_D) )\n",
    "# Covariance nurmalization is performed with ’brute force ’\n",
    "# The normalization constant is Z = delta_a*delta_b*sum(exp(z)).\n",
    "# This is independent of (a,b) so can be calculated outside of the loops.\n",
    "cov_ab <- 0\n",
    "for(j in 1:length(a)) {\n",
    "for(k in 1:length(b)) {\n",
    "cov_ab <- cov_ab + (a[j]-mean_a)*(b[k]-mean_b)*exp(z[j,k])}}\n",
    "    \n",
    "cov_ab <- cov_ab / sum(exp(z))\n",
    "rho_ab <- cov_ab / (sd_a * sd_b)\n",
    "cat(\"The resolution (w):\", w,\"\\n\")\n",
    "cat(\"  a = \", mean_a, \"+/-\", sd_a, \"\\n\")\n",
    "cat(\"  b = \", mean_b, \"+/-\", sd_b, \"\\n\")\n",
    "cat(\"rho = \", rho_ab, \"\\n\",\"\\n\")}"
   ]
  },
  {
   "cell_type": "markdown",
   "id": "f59bff58",
   "metadata": {},
   "source": [
    "### Exercise 3, Part B"
   ]
  },
  {
   "cell_type": "code",
   "execution_count": null,
   "id": "0a17d93b",
   "metadata": {},
   "outputs": [],
   "source": [
    "#a function that calculates z, given ratio, ddat and s.true\n",
    "z.finder.ratio <-   function(ratio, A.true, x0, Delta.t, a, b){\n",
    "    B.true <- A.true /ratio\n",
    "    s.true <- signal(xdat , A.true , B.true , x0, w, Delta.t)\n",
    "    ddat <- rpois(length(s.true), s.true)\n",
    "    # Compute log unnormalized posterior , z = ln Pˆ*(a,b|D), on a regular grid\n",
    "    z <- matrix(data=NA, nrow=length(a), ncol=length(b))\n",
    "    for(j in 1:length(a)) {\n",
    "    for(k in 1:length(b)) {\n",
    "    z[j,k] <- log.post(ddat , xdat , a[j], b[k], x0, w, Delta.t)}}\n",
    "    z <- z - max(z) }"
   ]
  },
  {
   "cell_type": "code",
   "execution_count": null,
   "id": "8df2af82",
   "metadata": {},
   "outputs": [],
   "source": [
    "x0         <- 0             # Signal peak\n",
    "w          <- 1\n",
    "A.true     <- 1             # Signal amplitud\n",
    "Delta.t    <- 5             # Exposure time\n",
    "ratio.list <- c(1,2,10,50)  #ratio = A.true/B.true"
   ]
  },
  {
   "cell_type": "code",
   "execution_count": null,
   "id": "0ccc754e",
   "metadata": {},
   "outputs": [],
   "source": [
    "par(mfrow=c(2,2))\n",
    "set.seed(205)\n",
    "options(repr.plot.width=8, repr.plot.height =6)  #changing size of plots\n",
    "for (ratio in ratio.list){\n",
    "B.true <- A.true /ratio\n",
    "# - Generate the observed data\n",
    "xdat <-   seq(from=-7*w, to=7*w, by=0.5*w)\n",
    "s.true <- signal(xdat , A.true , B.true , x0, w, Delta.t)\n",
    "ddat <- rpois(length(s.true), s.true)\n",
    "xplot <- seq(from=min(xdat), to=max(xdat), by=0.05*w)\n",
    "splot <- signal(xplot , A.true , B.true , x0, w, Delta.t)\n",
    "plot(xplot , splot ,xlab=\"x\", ylab=\"Signal+Background counts\", type ='l')\n",
    "par(new=TRUE)\n",
    "xdat.off <- xdat -0.25\n",
    "plot(xdat.off, ddat , type=\"s\",col=\"firebrick3\", lwd=2,xlim=range(xplot), ylim=range(c(splot , ddat)))\n",
    "title(main=paste(\"A/B ratio =\", ratio), line=0.7, cex.main=1) }"
   ]
  },
  {
   "cell_type": "code",
   "execution_count": null,
   "id": "1f75fe26",
   "metadata": {},
   "outputs": [],
   "source": [
    "alim <- c(0, 4)\n",
    "blim <- c(0, 2.6)\n",
    "lim.finder(alim, blim) #this function finds a and b"
   ]
  },
  {
   "cell_type": "code",
   "execution_count": null,
   "id": "feb8762d",
   "metadata": {},
   "outputs": [],
   "source": [
    "par(mfrow=c(2,2))\n",
    "set.seed(205)\n",
    "for (ratio in ratio.list){\n",
    "z <- z.finder.ratio(ratio,A.true, x0, Delta.t, a, b)\n",
    "# Plot unnormalized 2D posterior as contours.\n",
    "contour(a, b, exp(z),nlevels = 5,labcex = 0.5,lwd = 2,xlab=\"amplitude , A\",ylab=\"background , B\")\n",
    "abline(v=2,h=1,col=\"grey\")\n",
    "title(main=paste(\"A/B ratio =\", ratio), line=0.7, cex.main=1) }"
   ]
  },
  {
   "cell_type": "code",
   "execution_count": null,
   "id": "0f3e1e16",
   "metadata": {},
   "outputs": [],
   "source": [
    "par(mfrow=c(1,2))\n",
    "par(mfrow=c(4,2))\n",
    "options(repr.plot.width=8, repr.plot.height =13)  #changing size of plots\n",
    "for (ratio in ratio.list){\n",
    "z <- z.finder.ratio(ratio,A.true, x0, Delta.t, a, b)        \n",
    "# Compute normalized marginalized posteriors , P(a|D) and P(b|D)\n",
    "# by summing over other parameter. Normalize by gridding.\n",
    "p_a_D <- apply(exp(z), 1, sum)\n",
    "p_a_D <- p_a_D/(delta_a*sum(p_a_D))\n",
    "p_b_D <- apply(exp(z), 2, sum)\n",
    "p_b_D <- p_b_D/(delta_b*sum(p_b_D))\n",
    "# Compute normalized conditional posteriors , P(a|b,D) and P(b|a,D)\n",
    "# using true values of conditioned parameters. Vectorize(func , par)\n",
    "# makes a vectorized function out of func in the parameter par.\n",
    "p_a_bD <- exp(Vectorize(log.post , \"a\")(ddat , xdat , a, B.true ,\n",
    "x0, w, Delta.t))\n",
    "p_a_bD <- p_a_bD/(delta_a*sum(p_a_bD))\n",
    "p_b_aD <- exp(Vectorize(log.post , \"b\")(ddat , xdat , A.true , b,\n",
    "x0, w, Delta.t))\n",
    "p_b_aD <- p_b_aD/(delta_b*sum(p_b_aD))\n",
    "    \n",
    "# par(mfrow=c(2,2), mgp=c(2,0.8,0), mar=c(3.5,3.5,1,1), oma=0.1*c(1,1,1,1))\n",
    "# Plot the 1D marginalized posteriors\n",
    "plot(b, p_b_D, xlab=\"background , B\", yaxs=\"i\",\n",
    "ylim=1.05*c(0,max(p_b_D, p_b_aD)), ylab=\"P(B | D)  and  P(B | A,D)\",\n",
    "type=\"l\", lwd=2)\n",
    "title(main=paste(\"A/B ratio =\", ratio), line=0.7, cex.main=1)   \n",
    "\n",
    "lines(b, p_b_aD, lwd=2, lty=2)\n",
    "abline(v=B.true , col=\"grey\")\n",
    "plot(a, p_a_D, xlab=\"amplitude , A\", yaxs=\"i\",\n",
    "ylim=1.05*c(0,max(p_a_D, p_a_bD)), ylab=\"P(A | D)  and  P(A | B,D)\",\n",
    "type=\"l\", lwd=2)\n",
    "lines(a, p_a_bD, lwd=2, lty=2)\n",
    "abline(v=A.true , col=\"grey\")\n",
    "title(main=paste(\"A/B ratio =\", ratio), line=0.7, cex.main=1)   }"
   ]
  },
  {
   "cell_type": "code",
   "execution_count": null,
   "id": "9670fb0e",
   "metadata": {},
   "outputs": [],
   "source": [
    "for (ratio in ratio.list){\n",
    "z <- z.finder.ratio(ratio, A.true, x0, Delta.t, a, b)\n",
    "# Compute normalized marginalized posteriors , P(a|D) and P(b|D)\n",
    "# by summing over other parameter. Normalize by gridding.\n",
    "p_a_D <- apply(exp(z), 1, sum)\n",
    "p_a_D <- p_a_D/(delta_a*sum(p_a_D))\n",
    "p_b_D <- apply(exp(z), 2, sum)\n",
    "p_b_D <- p_b_D/(delta_b*sum(p_b_D))\n",
    "# Compute mean , standard deviation , covariance , correlation , of A and B\n",
    "mean_a <- delta_a * sum(a * p_a_D)\n",
    "mean_b <- delta_b * sum(b * p_b_D)\n",
    "sd_a <- sqrt( delta_a * sum((a-mean_a)**2 * p_a_D) )\n",
    "sd_b <- sqrt( delta_b * sum((b-mean_b)**2 * p_b_D) )\n",
    "# Covariance nurmalization is performed with ’brute force ’\n",
    "# The normalization constant is Z = delta_a*delta_b*sum(exp(z)).\n",
    "# This is independent of (a,b) so can be calculated outside of the loops.\n",
    "cov_ab <- 0\n",
    "for(j in 1:length(a)) {\n",
    "for(k in 1:length(b)) {\n",
    "cov_ab <- cov_ab + (a[j]-mean_a)*(b[k]-mean_b)*exp(z[j,k])}}\n",
    "    \n",
    "cov_ab <- cov_ab / sum(exp(z))\n",
    "rho_ab <- cov_ab / (sd_a * sd_b)\n",
    "cat(\"The A/B ratio:\", ratio,\"\\n\")\n",
    "cat(\"  a = \", mean_a, \"+/-\", sd_a, \"\\n\")\n",
    "cat(\"  b = \", mean_b, \"+/-\", sd_b, \"\\n\")\n",
    "cat(\"rho = \", rho_ab, \"\\n\",\"\\n\")}"
   ]
  }
 ],
 "metadata": {
  "kernelspec": {
   "display_name": "R",
   "language": "R",
   "name": "ir"
  },
  "language_info": {
   "codemirror_mode": "r",
   "file_extension": ".r",
   "mimetype": "text/x-r-source",
   "name": "R",
   "pygments_lexer": "r",
   "version": "3.6.1"
  }
 },
 "nbformat": 4,
 "nbformat_minor": 5
}
