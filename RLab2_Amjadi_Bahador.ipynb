{
 "cells": [
  {
   "cell_type": "markdown",
   "id": "37309c22",
   "metadata": {},
   "source": [
    "#  SET 2\n",
    "\n",
    "### Bahador Amjadi\n",
    "### Matricula:  \n",
    "\n",
    "### important: *please use the data source which is included in the zip file*"
   ]
  },
  {
   "cell_type": "code",
   "execution_count": 1,
   "id": "3f6522ee",
   "metadata": {},
   "outputs": [
    {
     "ename": "ERROR",
     "evalue": "Error in library(pracma): there is no package called 'pracma'\n",
     "output_type": "error",
     "traceback": [
      "Error in library(pracma): there is no package called 'pracma'\nTraceback:\n",
      "1. library(pracma)"
     ]
    }
   ],
   "source": [
    "library(ggplot2)\n",
    "library(pracma)"
   ]
  },
  {
   "cell_type": "markdown",
   "id": "5d1320e9",
   "metadata": {},
   "source": [
    "## Exercise 1"
   ]
  },
  {
   "cell_type": "code",
   "execution_count": 2,
   "id": "2524800c",
   "metadata": {},
   "outputs": [],
   "source": [
    "E.value <- function(x,p) {return(sum(x*p)) }\n",
    "VAR     <- function(x,p) {return(E.value((x-E.value(x, p))**2, p))}  #var(X)=E[(X−μ)2],where μ=E(X)\n",
    "\n",
    "x  <- c(15.58, 15.9, 16,16.1, 16.2  )\n",
    "p1 <- c(0.15, 15.9,  16,  16.1, 16.2)\n",
    "p2 <- c(0.14, 0.05, 0.64, 0.08, 0.09)"
   ]
  },
  {
   "cell_type": "code",
   "execution_count": 3,
   "id": "d1e780e8",
   "metadata": {},
   "outputs": [
    {
     "name": "stdout",
     "output_type": "stream",
     "text": [
      "Excepted Value of x for p1: 1032.797 \n",
      "Variance of x for p1: 3.50457e+13\n",
      "\n",
      "Excepted Value of x for p2: 15.9622 \n",
      "Variance of x for p2: 126207306"
     ]
    }
   ],
   "source": [
    "cat(\"Excepted Value of x for p1:\", E.value(x,p1), \"\\nVariance of x for p1:\",VAR(x,E.value(x,p1)))\n",
    "cat('\\n\\n')\n",
    "cat(\"Excepted Value of x for p2:\", E.value(x,p2), \"\\nVariance of x for p2:\",VAR(x,E.value(x,p2)))"
   ]
  },
  {
   "cell_type": "markdown",
   "id": "13e06af8",
   "metadata": {},
   "source": [
    "## Exercise 2"
   ]
  },
  {
   "cell_type": "code",
   "execution_count": 4,
   "id": "fbc3dbff",
   "metadata": {},
   "outputs": [],
   "source": [
    "options(repr.plot.width=3, repr.plot.height =2)  #changing size of plots"
   ]
  },
  {
   "cell_type": "code",
   "execution_count": 5,
   "id": "48c746b5",
   "metadata": {},
   "outputs": [
    {
     "data": {
      "image/png": "[encoded data removed]",
      "text/plain": [
       "plot without title"
      ]
     },
     "metadata": {},
     "output_type": "display_data"
    }
   ],
   "source": [
    "set.seed(1234)\n",
    "\n",
    "#part A\n",
    "rate = 1/30\n",
    "N    = 50\n",
    "df <- data.frame(person = seq(1,N) , time = rexp(N, rate))\n",
    "\n",
    "ggplot(df, aes(x=time)) + \n",
    "    geom_histogram(color=\"black\", fill=\"white\", bins=15) +\n",
    "    labs(title = \"Crude Oil Price per Year since 1861\",\n",
    "    x = \"Time\",\n",
    "    y = \"Probability\")"
   ]
  },
  {
   "cell_type": "code",
   "execution_count": 23,
   "id": "c87ebc0c",
   "metadata": {},
   "outputs": [],
   "source": [
    "prob.more.than <- function(x,threshold){return (length(x[x > threshold])/length(x))}\n",
    "prob.less.than <- function(x,threshold){return (length(x[x < threshold])/length(x))}"
   ]
  },
  {
   "cell_type": "code",
   "execution_count": 24,
   "id": "6e074b4e",
   "metadata": {},
   "outputs": [
    {
     "name": "stdout",
     "output_type": "stream",
     "text": [
      "The probability of waiting less than 10 minutes: NaN"
     ]
    }
   ],
   "source": [
    "#Part B\n",
    "\n",
    "prob <- porb.less.than(df$time, 10)\n",
    "cat (\"The probability of waiting less than 10 minutes:\", prob)"
   ]
  },
  {
   "cell_type": "code",
   "execution_count": 11,
   "id": "c655e08b",
   "metadata": {},
   "outputs": [
    {
     "name": "stdout",
     "output_type": "stream",
     "text": [
      "The average waiting time in minutes is: 29.67523"
     ]
    }
   ],
   "source": [
    "#Part C\n",
    "avg.value <- mean(df$time)\n",
    "cat(\"The average waiting time in minutes is:\", avg.value)\n",
    "#calculating the expected value?????"
   ]
  },
  {
   "cell_type": "code",
   "execution_count": 25,
   "id": "8dfe5645",
   "metadata": {},
   "outputs": [
    {
     "name": "stdout",
     "output_type": "stream",
     "text": [
      "The probability of waiting more than 1 hour is: NaN"
     ]
    }
   ],
   "source": [
    "#part D\n",
    "prob <- prob.more.than(df$time, 60)  #using a pre-defined fucntion\n",
    "cat (\"The probability of waiting more than 1 hour is:\", prob)"
   ]
  },
  {
   "cell_type": "markdown",
   "id": "9b1edf8f",
   "metadata": {},
   "source": [
    "## Exercise 3"
   ]
  },
  {
   "cell_type": "code",
   "execution_count": 16,
   "id": "d666e6a4",
   "metadata": {},
   "outputs": [
    {
     "name": "stdout",
     "output_type": "stream",
     "text": [
      "The probability that there is at least 1 error in a specific page: 0.04462492"
     ]
    },
    {
     "data": {
      "image/png": "[encoded data removed]",
      "text/plain": [
       "plot without title"
      ]
     },
     "metadata": {},
     "output_type": "display_data"
    }
   ],
   "source": [
    "lambda = 1/3\n",
    "N      = 1000\n",
    "df <- data.frame(page = seq(1,N) , page.error = rpois(N, lambda))\n",
    "\n",
    "ggplot(df, aes(x=page.error)) + \n",
    "    geom_histogram(color=\"black\", fill=\"white\", bins = 30) +\n",
    "    labs(title = \"Crude Oil Price per Year since 1861\",\n",
    "    x = \"Time\",\n",
    "    y = \"Probability\")\n",
    "\n",
    "prob <- ppois(1, lambda=1/3, lower=FALSE)\n",
    "cat(\"The probability that there is at least 1 error in a specific page:\", prob)\n",
    "\n",
    "\n",
    "# # Histogram with density plot\n",
    "# ggplot(df, aes(x=weight)) + \n",
    "#  geom_histogram(aes(y=..density..), colour=\"black\", fill=\"white\")+\n",
    "#  geom_density(alpha=.2, fill=\"#FF6666\") "
   ]
  },
  {
   "cell_type": "markdown",
   "id": "df89b777",
   "metadata": {},
   "source": [
    "## Exercise 4"
   ]
  },
  {
   "cell_type": "code",
   "execution_count": 17,
   "id": "38eaa713",
   "metadata": {},
   "outputs": [],
   "source": [
    "#There are 4 aces among 52 cards\n",
    "#We should run the exeriment for N times and plot the distribution of the number at which an ace was drawn\n",
    "\n",
    "N= 100000\n",
    "deck      <- rep(0, 48)       # 0 : non-ace cards\n",
    "deck      <- append(deck, rep(1,4))        # 1 : ace     cards\n",
    "ace.found.at <- vector()\n",
    "\n",
    "for (i in seq(1,N)){\n",
    "ace.found <- FALSE\n",
    "counter <- 1\n",
    "while (ace.found == FALSE){\n",
    "sample <- sample(deck,1,replace=TRUE)\n",
    "if (sample != 1){\n",
    "counter = counter + 1\n",
    "} else {\n",
    "ace.found = TRUE\n",
    "ace.found.at <- append(ace.found.at, counter)\n",
    "}}}\n",
    "\n",
    "df <- data.frame(ace.found.at = ace.found.at)"
   ]
  },
  {
   "cell_type": "code",
   "execution_count": 27,
   "id": "31ee2ed7",
   "metadata": {},
   "outputs": [
    {
     "name": "stdout",
     "output_type": "stream",
     "text": [
      "The probability we would need at least 10 tries to draw the ace 0.44761"
     ]
    },
    {
     "data": {
      "image/png": "[encoded data removed]",
      "text/plain": [
       "plot without title"
      ]
     },
     "metadata": {},
     "output_type": "display_data"
    }
   ],
   "source": [
    "ggplot(df, aes(x=ace.found.at)) + \n",
    "    geom_histogram(color=\"black\", fill=\"white\", bins=2000) +\n",
    "    labs(title = \"Distribution of at which try the Ace was found\",\n",
    "    x = \"Time\",\n",
    "    y = \"Probability\")\n",
    "\n",
    "prob <- prob.more.than(ace.found.at, 10)\n",
    "# prob <- length(ace.found.at[ace.found.at > 10])/length(ace.found.at)\n",
    "cat(\"The probability we would need at least 10 tries to draw the ace\", prob)"
   ]
  },
  {
   "cell_type": "markdown",
   "id": "133a6142",
   "metadata": {},
   "source": [
    "## Exercise 5"
   ]
  },
  {
   "cell_type": "code",
   "execution_count": 41,
   "id": "bc80d5f6",
   "metadata": {},
   "outputs": [],
   "source": [
    "#part A\n",
    "dens.func <- function(t){(t-1)*(2-t)}\n",
    "c <- 1/integrate(dens.func, 1, 2)$value"
   ]
  },
  {
   "cell_type": "code",
   "execution_count": 40,
   "id": "575235b7",
   "metadata": {},
   "outputs": [
    {
     "data": {
      "image/png": "[encoded data removed]",
      "text/plain": [
       "plot without title"
      ]
     },
     "metadata": {},
     "output_type": "display_data"
    }
   ],
   "source": [
    "# df <- data.frame(time = time)\n",
    "\n",
    "#providing a dummy dataset\n",
    "ggplot(data = data.frame(x = 0), mapping = aes(x = x)) + \n",
    "       stat_function(fun = dens.func) + xlim(1,2) +\n",
    "       labs(title = \"PDF of TOLC-I Finishing Time\",\n",
    "       x = \"Finishing Time\",\n",
    "       y = \"PDF\")"
   ]
  },
  {
   "cell_type": "code",
   "execution_count": null,
   "id": "71cfb88f",
   "metadata": {},
   "outputs": [],
   "source": [
    "#part B\n",
    "ggplot(df, aes(x=time)) + \n",
    "    geom_histogram(aes(y=..density..), color=\"black\", fill=\"white\", bins=15) +\n",
    "    geom_density(alpha=.2, fill=\"#FF6666\") +\n",
    "    labs(title = \"Crude Oil Price per Year since 1861\",\n",
    "    x = \"Time\",\n",
    "    y = \"Probability\")"
   ]
  },
  {
   "cell_type": "code",
   "execution_count": 48,
   "id": "3207d56d",
   "metadata": {},
   "outputs": [
    {
     "name": "stdout",
     "output_type": "stream",
     "text": [
      "The probability that the student will finish the test in more than 75 minutes is 0.84375\n",
      "The probability that the student will finish the test between 90 and 120 minutes is 0.5"
     ]
    }
   ],
   "source": [
    "#part C\n",
    "#since we are provided with the analytic function we use integration for this part\n",
    "norm.dens.func <- function(t){c*(t-1)*(2-t)}\n",
    "\n",
    "#prob of finishing in more than 75 minutes:\n",
    "prob <- integrate(norm.dens.func, 1.25, 2)$value\n",
    "cat(\"The probability that the student will finish the test in more than 75 minutes is\", prob)\n",
    "cat(\"\\n\")\n",
    "#prob of finishing between 90 and 120 minutes \n",
    "prob <- integrate(norm.dens.func, 1.5, 2)$value\n",
    "cat(\"The probability that the student will finish the test between 90 and 120 minutes is\", prob)"
   ]
  },
  {
   "cell_type": "markdown",
   "id": "1fdd75f4",
   "metadata": {},
   "source": [
    "## Exercise 6"
   ]
  },
  {
   "cell_type": "code",
   "execution_count": 101,
   "id": "15a96cfe",
   "metadata": {},
   "outputs": [
    {
     "data": {
      "image/png": "[encoded data removed]",
      "text/plain": [
       "plot without title"
      ]
     },
     "metadata": {},
     "output_type": "display_data"
    }
   ],
   "source": [
    "#part A\n",
    "dens.func <- function(x){return(10000*(2/(x**2)))}\n",
    "\n",
    "ggplot(data = data.frame(x = 0), mapping = aes(x = x)) + \n",
    "       stat_function(fun = dens.func) + xlim(1,2) +\n",
    "       labs(title = \"PDF of TOLC-I Finishing Time\",\n",
    "       x = \"Finishing Time\",\n",
    "       y = \"PDF\")"
   ]
  },
  {
   "cell_type": "code",
   "execution_count": 105,
   "id": "e8ed568e",
   "metadata": {},
   "outputs": [],
   "source": [
    "#let's normalize the pdf\n",
    "c <- (1/integrate(dens.func, 1, 2)$value)\n",
    "norm.dens.func <- function(x){return(c*10000*(2/(x**2)))}"
   ]
  },
  {
   "cell_type": "code",
   "execution_count": 107,
   "id": "01ec2ec1",
   "metadata": {},
   "outputs": [
    {
     "name": "stdout",
     "output_type": "stream",
     "text": [
      "The probability that the tire will last less than 15000km is 0.6666667"
     ]
    }
   ],
   "source": [
    "#part B\n",
    "#prob that tire last less than 15000 km:\n",
    "prob <- integrate(norm.dens.func, 1, 1.5)$value\n",
    "cat(\"The probability that the tire will last less than 15000km is\", prob)"
   ]
  },
  {
   "cell_type": "code",
   "execution_count": 108,
   "id": "776abd2d",
   "metadata": {},
   "outputs": [
    {
     "name": "stdout",
     "output_type": "stream",
     "text": [
      "The mean value of x is 1.388345\n",
      "The variance of x is 0.07754132"
     ]
    }
   ],
   "source": [
    "#part C\n",
    "N= 3000\n",
    "samples <- runif(N) + 1    #generating uniform random numbers between 1 and 2\n",
    "probs <- dens.func(samples)\n",
    "probs <- probs/sum(probs)  #normalizing the probabilites\n",
    "\n",
    "cat(\"The mean value of x is\", E.value(samples, probs))\n",
    "cat(\"\\n\")\n",
    "cat(\"The variance of x is\",  VAR(samples, probs))"
   ]
  }
 ],
 "metadata": {
  "kernelspec": {
   "display_name": "R",
   "language": "R",
   "name": "ir"
  },
  "language_info": {
   "codemirror_mode": "r",
   "file_extension": ".r",
   "mimetype": "text/x-r-source",
   "name": "R",
   "pygments_lexer": "r",
   "version": "3.6.1"
  }
 },
 "nbformat": 4,
 "nbformat_minor": 5
}
