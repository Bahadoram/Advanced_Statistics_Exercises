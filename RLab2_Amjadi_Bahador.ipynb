{
 "cells": [
  {
   "cell_type": "markdown",
   "id": "37309c22",
   "metadata": {},
   "source": [
    "#  SET 2\n",
    "\n",
    "### Bahador Amjadi\n",
    "### Matricula:  \n",
    "\n",
    "### important: *please use the data source which is included in the zip file*"
   ]
  },
  {
   "cell_type": "code",
   "execution_count": 1,
   "id": "3f6522ee",
   "metadata": {},
   "outputs": [
    {
     "ename": "ERROR",
     "evalue": "Error in library(pracma): there is no package called 'pracma'\n",
     "output_type": "error",
     "traceback": [
      "Error in library(pracma): there is no package called 'pracma'\nTraceback:\n",
      "1. library(pracma)"
     ]
    }
   ],
   "source": [
    "library(ggplot2)\n",
    "library(pracma)"
   ]
  },
  {
   "cell_type": "markdown",
   "id": "5d1320e9",
   "metadata": {},
   "source": [
    "## Exercise 1"
   ]
  },
  {
   "cell_type": "code",
   "execution_count": 370,
   "id": "2524800c",
   "metadata": {},
   "outputs": [],
   "source": [
    "E.value <- function(x,p) {return(sum(x*p)) }  #a function that calculates the expected value\n",
    "VAR     <- function(x,p) {return(E.value((x-E.value(x, p))**2, p))}  #a function that calculates variance\n",
    "\n",
    "x  <- c(15.58, 15.9, 16,16.1, 16.2  )\n",
    "p1 <- c(0.15, 15.9,  16,  16.1, 16.2)\n",
    "p2 <- c(0.14, 0.05, 0.64, 0.08, 0.09)"
   ]
  },
  {
   "cell_type": "code",
   "execution_count": 371,
   "id": "d1e780e8",
   "metadata": {},
   "outputs": [
    {
     "name": "stdout",
     "output_type": "stream",
     "text": [
      "Excepted Value of x for p1 is 1032.797 \n",
      "Variance of x for p1 is 3.50457e+13\n",
      "\n",
      "Excepted Value of x for p2 is 15.9622 \n",
      "Variance of x for p2 is 126207306"
     ]
    }
   ],
   "source": [
    "cat(\"Excepted Value of x for p1 is\", E.value(x,p1), \"\\nVariance of x for p1 is\",VAR(x,E.value(x,p1)))\n",
    "cat('\\n\\n')\n",
    "cat(\"Excepted Value of x for p2 is\", E.value(x,p2), \"\\nVariance of x for p2 is\",VAR(x,E.value(x,p2)))"
   ]
  },
  {
   "cell_type": "markdown",
   "id": "13e06af8",
   "metadata": {},
   "source": [
    "## Exercise 2"
   ]
  },
  {
   "cell_type": "code",
   "execution_count": 372,
   "id": "fbc3dbff",
   "metadata": {},
   "outputs": [],
   "source": [
    "options(repr.plot.width=4, repr.plot.height =2.5)  #changing size of plots"
   ]
  },
  {
   "cell_type": "code",
   "execution_count": 373,
   "id": "48c746b5",
   "metadata": {},
   "outputs": [
    {
     "data": {
      "image/png": "[encoded data removed]",
      "text/plain": [
       "plot without title"
      ]
     },
     "metadata": {},
     "output_type": "display_data"
    }
   ],
   "source": [
    "set.seed(1234)\n",
    "#part A\n",
    "rate = 1/30\n",
    "N    = 50\n",
    "df <- data.frame(person = seq(1,N) , time = rexp(N, rate))\n",
    "\n",
    "ggplot(df, aes(x=time)) + \n",
    "    geom_histogram(color=\"black\", fill=\"white\", bins=15) +\n",
    "    labs(title = \"Histogram of Waiting Time of 50 People\",\n",
    "    x = \"Waiting Time\",\n",
    "    y = \"frequency\")"
   ]
  },
  {
   "cell_type": "code",
   "execution_count": 374,
   "id": "c87ebc0c",
   "metadata": {},
   "outputs": [],
   "source": [
    "#These functions calculate the probability of x be more/less than a threshold\n",
    "prob.more.than <- function(x,threshold){return (length(x[x > threshold])/length(x))}\n",
    "prob.less.than <- function(x,threshold){return (length(x[x < threshold])/length(x))}"
   ]
  },
  {
   "cell_type": "code",
   "execution_count": 375,
   "id": "6e074b4e",
   "metadata": {},
   "outputs": [
    {
     "name": "stdout",
     "output_type": "stream",
     "text": [
      "The probability of waiting less than 10 minutes is 0.32"
     ]
    }
   ],
   "source": [
    "#Part B\n",
    "prob <- prob.less.than(df$time, 10)\n",
    "cat (\"The probability of waiting less than 10 minutes is\", prob)"
   ]
  },
  {
   "cell_type": "code",
   "execution_count": 376,
   "id": "c655e08b",
   "metadata": {},
   "outputs": [
    {
     "name": "stdout",
     "output_type": "stream",
     "text": [
      "The average waiting time in minutes is 29.67523"
     ]
    }
   ],
   "source": [
    "#Part C\n",
    "avg.value <- mean(df$time)\n",
    "cat(\"The average waiting time in minutes is\", avg.value)\n",
    "#calculating the expected value?????"
   ]
  },
  {
   "cell_type": "code",
   "execution_count": 377,
   "id": "8dfe5645",
   "metadata": {},
   "outputs": [
    {
     "name": "stdout",
     "output_type": "stream",
     "text": [
      "The probability of waiting more than 1 hour is 0.14"
     ]
    }
   ],
   "source": [
    "#part D\n",
    "prob <- prob.more.than(df$time, 60)\n",
    "cat (\"The probability of waiting more than 1 hour is\", prob)"
   ]
  },
  {
   "cell_type": "markdown",
   "id": "9b1edf8f",
   "metadata": {},
   "source": [
    "## Exercise 3"
   ]
  },
  {
   "cell_type": "code",
   "execution_count": 378,
   "id": "1907f55e",
   "metadata": {},
   "outputs": [],
   "source": [
    "#This fucntion finds the normalization constant of a given x\n",
    "# norm.const <- function(x){return(x/sum(x))}\n",
    "norm.const <- function(x,a,b){return(1/integrate(x, a, b)$value)}"
   ]
  },
  {
   "cell_type": "code",
   "execution_count": 380,
   "id": "d666e6a4",
   "metadata": {},
   "outputs": [
    {
     "name": "stdout",
     "output_type": "stream",
     "text": [
      "The probability that there is at least 1 error in a specific page is 0.04462492"
     ]
    },
    {
     "data": {
      "image/png": "[encoded data removed]",
      "text/plain": [
       "plot without title"
      ]
     },
     "metadata": {},
     "output_type": "display_data"
    },
    {
     "data": {
      "image/png": "[encoded data removed]",
      "text/plain": [
       "plot without title"
      ]
     },
     "metadata": {},
     "output_type": "display_data"
    }
   ],
   "source": [
    "lambda = 1/3\n",
    "N      = 10\n",
    "df <- data.frame(no.errors = 1:N , error.pdf = dpois(1:N, lambda), error.cdf = ppois(1:N, lambda))\n",
    "\n",
    "prob <- ppois(1, lambda=1/3, lower=FALSE)\n",
    "cat(\"The probability that there is at least 1 error in a specific page is\", prob)\n",
    "#pdf\n",
    "ggplot(data = df, aes(x =no.errors , y = error.pdf)) +\n",
    "    labs(title = \"pdf\",\n",
    "    x = \"Year\",\n",
    "    y = \"Price\") +\n",
    "    geom_line(color='black', lwd=0.55)\n",
    "#cdf\n",
    "ggplot(data = df, aes(x =no.errors , y = error.cdf)) +\n",
    "    labs(title = \"cdf\",\n",
    "    x = \"Year\",\n",
    "    y = \"Price\") +\n",
    "    geom_line(color='black', lwd=0.55)"
   ]
  },
  {
   "cell_type": "markdown",
   "id": "df89b777",
   "metadata": {},
   "source": [
    "## Exercise 4"
   ]
  },
  {
   "cell_type": "code",
   "execution_count": 12,
   "id": "38eaa713",
   "metadata": {},
   "outputs": [],
   "source": [
    "#There are 4 aces among 52 cards\n",
    "#We should run the exeriment for N times and plot the distribution of the number at which an ace was drawn\n",
    "\n",
    "N= 100000\n",
    "deck      <- rep(0, 48)       # 0 : non-ace cards\n",
    "deck      <- append(deck, rep(1,4))        # 1 : ace     cards\n",
    "ace.found.at <- vector()\n",
    "\n",
    "for (i in seq(1,N)){\n",
    "ace.found <- FALSE\n",
    "counter <- 1\n",
    "while (ace.found == FALSE){\n",
    "sample <- sample(deck,1,replace=TRUE)\n",
    "if (sample != 1){\n",
    "counter = counter + 1\n",
    "} else {\n",
    "ace.found = TRUE\n",
    "ace.found.at <- append(ace.found.at, counter)\n",
    "}}}\n",
    "\n",
    "df <- data.frame(ace.found.at = ace.found.at)"
   ]
  },
  {
   "cell_type": "code",
   "execution_count": 13,
   "id": "31ee2ed7",
   "metadata": {},
   "outputs": [
    {
     "name": "stdout",
     "output_type": "stream",
     "text": [
      "The probability we would need at least 10 tries to draw the ace 0.44759"
     ]
    },
    {
     "data": {
      "image/png": "[encoded data removed]",
      "text/plain": [
       "plot without title"
      ]
     },
     "metadata": {},
     "output_type": "display_data"
    }
   ],
   "source": [
    "ggplot(df, aes(x=ace.found.at)) + \n",
    "    geom_histogram(color=\"black\", fill=\"white\", bins=2000) +\n",
    "    labs(title = \"histogram of the Nth Try at Which Ace is Found\",\n",
    "    x = \"Nth try at which ace is found\",\n",
    "    y = \"frequency\")\n",
    "\n",
    "prob <- prob.more.than(ace.found.at, 10)\n",
    "# prob <- length(ace.found.at[ace.found.at > 10])/length(ace.found.at)\n",
    "cat(\"The probability we would need at least 10 tries to draw the ace\", prob)"
   ]
  },
  {
   "cell_type": "markdown",
   "id": "133a6142",
   "metadata": {},
   "source": [
    "## Exercise 5"
   ]
  },
  {
   "cell_type": "code",
   "execution_count": 397,
   "id": "bc80d5f6",
   "metadata": {},
   "outputs": [
    {
     "name": "stdout",
     "output_type": "stream",
     "text": [
      "The normalization constant is 6"
     ]
    }
   ],
   "source": [
    "#part A\n",
    "dens.func <- function(t){(t-1)*(2-t)}\n",
    "c <- norm.const(dens.func, 1,2)  #normalization constant\n",
    "cat(\"The normalization constant is\", c)\n",
    "norm.dens.func <- function(t){6* (t-1)*(2-t)}"
   ]
  },
  {
   "cell_type": "markdown",
   "id": "996eff1d",
   "metadata": {},
   "source": [
    "#### p for \"probability\", the cumulative distribution function (c. d. f.)\n",
    "#### q for \"quantile\", the inverse c. d. f.\n",
    "#### d for \"density\", the density function (p. f. or p. d. f.)\n",
    "#### r for \"random\", a random variable having the specified distribution"
   ]
  },
  {
   "cell_type": "code",
   "execution_count": 25,
   "id": "6295f322",
   "metadata": {},
   "outputs": [],
   "source": [
    "# install.packages(\"GoFKernel\")\n",
    "library(GoFKernel) #for finding the inverse"
   ]
  },
  {
   "cell_type": "code",
   "execution_count": 398,
   "id": "68f9d487",
   "metadata": {},
   "outputs": [
    {
     "name": "stderr",
     "output_type": "stream",
     "text": [
      "Your code contains a unicode char which cannot be displayed in your\n",
      "current locale and R will silently convert it to an escaped form when the\n",
      "R kernel executes this code. This can lead to subtle errors if you use\n",
      "such chars to do comparisons. For more information, please see\n",
      "https://github.com/IRkernel/repr/wiki/Problems-with-unicode-on-windows"
     ]
    }
   ],
   "source": [
    "#part B, Writing set of four functions\n",
    "\n",
    "X    <- seq(1,2,0.01)\n",
    "DF   <- data.frame(X=X)  #َ dataframe to store all the variables\n",
    "#pdf\n",
    "dfunc <- function(f){\n",
    "    pdf <- vector()\n",
    "    for (x in X){pdf <- append(pdf, f(x))}\n",
    "    DF$PDF <<- pdf}   #using global assignment operator\n",
    "\n",
    "#cdf\n",
    "pfunc    <- function(f){\n",
    "    cdf.func <- function(x){return(integrate(f,1,x)$value)}\n",
    "    cdf <- vector()\n",
    "    for (x in X){cdf <- append(cdf, cdf.func(x))}\n",
    "    DF$CDF <<- cdf}\n",
    "\n",
    "#quantile\n",
    "qfunc  <- function(f){\n",
    "    cdf.func <- function(x){return(integrate(f,1,x)$value)}\n",
    "    quantile.func <- inverse(cdf.func, lower = 0, upper = 1)\n",
    "    q <- vector()\n",
    "    for (x in X){q <- append(q, quantile.func(x))}\n",
    "    DF$Quantile <<- q}\n",
    "\n",
    "#random\n",
    "rfunc <- function(f){\n",
    "    cdf.func <- function(x){return(integrate(f,1,x)$value)}\n",
    "    quantile.func <- inverse(cdf.func, lower = 0, upper = 1)\n",
    "    X <- runif(101,0,1)\n",
    "    r <- vector()\n",
    "    for (x in X){r <- append(r, quantile.func(x))}\n",
    "    DF$Random <<- r}"
   ]
  },
  {
   "cell_type": "code",
   "execution_count": 399,
   "id": "21f54059",
   "metadata": {},
   "outputs": [],
   "source": [
    "#Running all the four functions and storing their output in DF\n",
    "dfunc(norm.dens.func)\n",
    "pfunc(norm.dens.func)\n",
    "qfunc(norm.dens.func)\n",
    "rfunc(norm.dens.func)"
   ]
  },
  {
   "cell_type": "code",
   "execution_count": 400,
   "id": "7206f3e3",
   "metadata": {},
   "outputs": [
    {
     "data": {
      "text/html": [
       "<table>\n",
       "<thead><tr><th scope=col>X</th><th scope=col>PDF</th><th scope=col>CDF</th><th scope=col>Quantile</th><th scope=col>Random</th></tr></thead>\n",
       "<tbody>\n",
       "\t<tr><td>1.00     </td><td>0.0000   </td><td>0.000000 </td><td>0.5000000</td><td>0.5207757</td></tr>\n",
       "\t<tr><td>1.01     </td><td>0.0594   </td><td>0.000298 </td><td>0.4977843</td><td>0.5251916</td></tr>\n",
       "\t<tr><td>1.02     </td><td>0.1176   </td><td>0.001184 </td><td>0.4955830</td><td>0.6521022</td></tr>\n",
       "\t<tr><td>1.03     </td><td>0.1746   </td><td>0.002646 </td><td>0.4933930</td><td>0.5682510</td></tr>\n",
       "\t<tr><td>1.04     </td><td>0.2304   </td><td>0.004672 </td><td>0.4912156</td><td>0.7936804</td></tr>\n",
       "\t<tr><td>1.05     </td><td>0.2850   </td><td>0.007250 </td><td>0.4890507</td><td>0.7202553</td></tr>\n",
       "</tbody>\n",
       "</table>\n"
      ],
      "text/latex": [
       "\\begin{tabular}{r|lllll}\n",
       " X & PDF & CDF & Quantile & Random\\\\\n",
       "\\hline\n",
       "\t 1.00      & 0.0000    & 0.000000  & 0.5000000 & 0.5207757\\\\\n",
       "\t 1.01      & 0.0594    & 0.000298  & 0.4977843 & 0.5251916\\\\\n",
       "\t 1.02      & 0.1176    & 0.001184  & 0.4955830 & 0.6521022\\\\\n",
       "\t 1.03      & 0.1746    & 0.002646  & 0.4933930 & 0.5682510\\\\\n",
       "\t 1.04      & 0.2304    & 0.004672  & 0.4912156 & 0.7936804\\\\\n",
       "\t 1.05      & 0.2850    & 0.007250  & 0.4890507 & 0.7202553\\\\\n",
       "\\end{tabular}\n"
      ],
      "text/markdown": [
       "\n",
       "| X | PDF | CDF | Quantile | Random |\n",
       "|---|---|---|---|---|\n",
       "| 1.00      | 0.0000    | 0.000000  | 0.5000000 | 0.5207757 |\n",
       "| 1.01      | 0.0594    | 0.000298  | 0.4977843 | 0.5251916 |\n",
       "| 1.02      | 0.1176    | 0.001184  | 0.4955830 | 0.6521022 |\n",
       "| 1.03      | 0.1746    | 0.002646  | 0.4933930 | 0.5682510 |\n",
       "| 1.04      | 0.2304    | 0.004672  | 0.4912156 | 0.7936804 |\n",
       "| 1.05      | 0.2850    | 0.007250  | 0.4890507 | 0.7202553 |\n",
       "\n"
      ],
      "text/plain": [
       "  X    PDF    CDF      Quantile  Random   \n",
       "1 1.00 0.0000 0.000000 0.5000000 0.5207757\n",
       "2 1.01 0.0594 0.000298 0.4977843 0.5251916\n",
       "3 1.02 0.1176 0.001184 0.4955830 0.6521022\n",
       "4 1.03 0.1746 0.002646 0.4933930 0.5682510\n",
       "5 1.04 0.2304 0.004672 0.4912156 0.7936804\n",
       "6 1.05 0.2850 0.007250 0.4890507 0.7202553"
      ]
     },
     "metadata": {},
     "output_type": "display_data"
    }
   ],
   "source": [
    "head(DF)"
   ]
  },
  {
   "cell_type": "code",
   "execution_count": null,
   "id": "b4189a64",
   "metadata": {},
   "outputs": [],
   "source": [
    "#Plotting the stored values"
   ]
  },
  {
   "cell_type": "code",
   "execution_count": 385,
   "id": "3207d56d",
   "metadata": {},
   "outputs": [
    {
     "name": "stdout",
     "output_type": "stream",
     "text": [
      "The probability that the student will finish the test in more than 75 minutes is 0.84375\n",
      "The probability that the student will finish the test between 90 and 120 minutes is 0.5"
     ]
    }
   ],
   "source": [
    "#part C\n",
    "#since we are provided with the analytic function we use integration for this part\n",
    "norm.dens.func <- function(t){c*(t-1)*(2-t)}\n",
    "\n",
    "#prob of finishing in more than 75 minutes:\n",
    "prob <- integrate(norm.dens.func, 1.25, 2)$value\n",
    "cat(\"The probability that the student will finish the test in more than 75 minutes is\", prob)\n",
    "cat(\"\\n\")\n",
    "#prob of finishing between 90 and 120 minutes \n",
    "prob <- integrate(norm.dens.func, 1.5, 2)$value\n",
    "cat(\"The probability that the student will finish the test between 90 and 120 minutes is\", prob)"
   ]
  },
  {
   "cell_type": "markdown",
   "id": "1fdd75f4",
   "metadata": {},
   "source": [
    "## Exercise 6"
   ]
  },
  {
   "cell_type": "code",
   "execution_count": 395,
   "id": "15a96cfe",
   "metadata": {},
   "outputs": [
    {
     "name": "stderr",
     "output_type": "stream",
     "text": [
      "Your code contains a unicode char which cannot be displayed in your\n",
      "current locale and R will silently convert it to an escaped form when the\n",
      "R kernel executes this code. This can lead to subtle errors if you use\n",
      "such chars to do comparisons. For more information, please see\n",
      "https://github.com/IRkernel/repr/wiki/Problems-with-unicode-on-windows"
     ]
    },
    {
     "data": {
      "text/html": [
       "<table>\n",
       "<thead><tr><th scope=col>X</th><th scope=col>PDF</th><th scope=col>CDF</th></tr></thead>\n",
       "<tbody>\n",
       "\t<tr><td>1.00    </td><td>120000.0</td><td>   0.000</td></tr>\n",
       "\t<tr><td>1.01    </td><td>117635.5</td><td>1188.119</td></tr>\n",
       "\t<tr><td>1.02    </td><td>115340.3</td><td>2352.941</td></tr>\n",
       "\t<tr><td>1.03    </td><td>113111.5</td><td>3495.146</td></tr>\n",
       "\t<tr><td>1.04    </td><td>110946.7</td><td>4615.385</td></tr>\n",
       "\t<tr><td>1.05    </td><td>108843.5</td><td>5714.286</td></tr>\n",
       "</tbody>\n",
       "</table>\n"
      ],
      "text/latex": [
       "\\begin{tabular}{r|lll}\n",
       " X & PDF & CDF\\\\\n",
       "\\hline\n",
       "\t 1.00     & 120000.0 &    0.000\\\\\n",
       "\t 1.01     & 117635.5 & 1188.119\\\\\n",
       "\t 1.02     & 115340.3 & 2352.941\\\\\n",
       "\t 1.03     & 113111.5 & 3495.146\\\\\n",
       "\t 1.04     & 110946.7 & 4615.385\\\\\n",
       "\t 1.05     & 108843.5 & 5714.286\\\\\n",
       "\\end{tabular}\n"
      ],
      "text/markdown": [
       "\n",
       "| X | PDF | CDF |\n",
       "|---|---|---|\n",
       "| 1.00     | 120000.0 |    0.000 |\n",
       "| 1.01     | 117635.5 | 1188.119 |\n",
       "| 1.02     | 115340.3 | 2352.941 |\n",
       "| 1.03     | 113111.5 | 3495.146 |\n",
       "| 1.04     | 110946.7 | 4615.385 |\n",
       "| 1.05     | 108843.5 | 5714.286 |\n",
       "\n"
      ],
      "text/plain": [
       "  X    PDF      CDF     \n",
       "1 1.00 120000.0    0.000\n",
       "2 1.01 117635.5 1188.119\n",
       "3 1.02 115340.3 2352.941\n",
       "4 1.03 113111.5 3495.146\n",
       "5 1.04 110946.7 4615.385\n",
       "6 1.05 108843.5 5714.286"
      ]
     },
     "metadata": {},
     "output_type": "display_data"
    }
   ],
   "source": [
    "#part A\n",
    "\n",
    "#let's normalize the pdf\n",
    "c <- (1/integrate(dens.func, 1, 2)$value)\n",
    "norm.dens.func <- function(x){return(c*10000*(2/(x**2)))}\n",
    "\n",
    "X    <- seq(1,2,0.01)\n",
    "DF   <- data.frame(X=X)  #َ dataframe to store all the variables\n",
    "\n",
    "dfunc(norm.dens.func)\n",
    "pfunc(norm.dens.func)\n",
    "# Warning: The other two functions lead to a divergant integral, therefore are not included here\n",
    "# qfunc(norm.dens.func)\n",
    "# rfunc(norm.dens.func)\n",
    "\n",
    "head(DF)"
   ]
  },
  {
   "cell_type": "code",
   "execution_count": 396,
   "id": "01ec2ec1",
   "metadata": {},
   "outputs": [
    {
     "name": "stdout",
     "output_type": "stream",
     "text": [
      "The probability that the tire will last less than 15000km is 40000"
     ]
    }
   ],
   "source": [
    "#part B\n",
    "#prob that tire last less than 15000 km:\n",
    "prob <- integrate(norm.dens.func, 1, 1.5)$value\n",
    "cat(\"The probability that the tire will last less than 15000km is\", prob)"
   ]
  },
  {
   "cell_type": "code",
   "execution_count": 394,
   "id": "776abd2d",
   "metadata": {},
   "outputs": [
    {
     "name": "stdout",
     "output_type": "stream",
     "text": [
      "The mean value of x is 1.500699\n",
      "The variance of x is 0.04889193"
     ]
    }
   ],
   "source": [
    "#part C\n",
    "N= 3000\n",
    "samples <- runif(N) + 1    #generating uniform random numbers between 1 and 2\n",
    "probs <- dens.func(samples)\n",
    "probs <- probs/sum(probs)  #normalizing the probabilites\n",
    "\n",
    "cat(\"The mean value of x is\", E.value(samples, probs))\n",
    "cat(\"\\n\")\n",
    "cat(\"The variance of x is\",  VAR(samples, probs))"
   ]
  }
 ],
 "metadata": {
  "kernelspec": {
   "display_name": "R",
   "language": "R",
   "name": "ir"
  },
  "language_info": {
   "codemirror_mode": "r",
   "file_extension": ".r",
   "mimetype": "text/x-r-source",
   "name": "R",
   "pygments_lexer": "r",
   "version": "3.6.1"
  }
 },
 "nbformat": 4,
 "nbformat_minor": 5
}
