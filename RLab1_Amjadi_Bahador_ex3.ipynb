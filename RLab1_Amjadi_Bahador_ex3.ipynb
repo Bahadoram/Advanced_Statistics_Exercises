{
 "cells": [
  {
   "cell_type": "markdown",
   "id": "46b6cb60",
   "metadata": {},
   "source": [
    "# SET 3\n",
    "\n",
    "### Bahador Amjadi\n",
    "### 2040470"
   ]
  },
  {
   "cell_type": "code",
   "execution_count": 11,
   "id": "13d18a02",
   "metadata": {},
   "outputs": [
    {
     "name": "stderr",
     "output_type": "stream",
     "text": [
      "Warning message:\n",
      "\"package 'reshape2' was built under R version 3.6.3\""
     ]
    }
   ],
   "source": [
    "library(ggplot2)\n",
    "library(reshape2)  #for visualization"
   ]
  },
  {
   "cell_type": "markdown",
   "id": "dc527211",
   "metadata": {},
   "source": [
    "## Exercise 1"
   ]
  },
  {
   "cell_type": "code",
   "execution_count": 204,
   "id": "dfc81ba3",
   "metadata": {},
   "outputs": [],
   "source": [
    "tring.func <- function(x, a , b ,c){\n",
    "    if      (a<=x & x<c)   {output <- (2*(x-a))/((b-a)*(c-a))}\n",
    "    else if (c<=x & x<=b)  {output <- ((2*(b-x))/((b-a)*(b-c)))}\n",
    "    else                   {output <- (0)}\n",
    "    return(output)}\n",
    "\n",
    "\n",
    "\n",
    "func.plotter <- function(f, a, b, c){\n",
    "    X    <- seq(a,b,0.01)\n",
    "    df   <- data.frame(X=X)  \n",
    "    F <- vector()\n",
    "    for (x in X){F <- append(F, f(x, a, b, c))}\n",
    "    df$F <- F   \n",
    "    max.y <<- max(df$F)\n",
    "    \n",
    "    ggplot(data = df, aes(x =X , y = F)) +\n",
    "    labs(title = \"The Triangular Distribution\",\n",
    "    x = \"X\",\n",
    "    y = \"F\") +\n",
    "    geom_line(color='black', lwd=0.7)\n",
    "    \n",
    "    DF <<- data.frame(analytic=F)\n",
    "    \n",
    "}"
   ]
  },
  {
   "cell_type": "code",
   "execution_count": 185,
   "id": "422ac0a8",
   "metadata": {},
   "outputs": [
    {
     "data": {
      "image/png": "[encoded data removed]",
      "text/plain": [
       "plot without title"
      ]
     },
     "metadata": {},
     "output_type": "display_data"
    }
   ],
   "source": [
    "#part a\n",
    "\n",
    "#options(repr.plot.width=4, repr.plot.height =2.5)  #changing size of plots\n",
    "\n",
    "func.plotter(tring.func, 1, 9, 2.5)"
   ]
  },
  {
   "cell_type": "code",
   "execution_count": 187,
   "id": "69a0f943",
   "metadata": {},
   "outputs": [],
   "source": [
    "#part b\n",
    "\n",
    "#We try to use accept-reject method to generate random numbers from this distribution \n",
    "\n",
    "random.generator <- function(tring.func, a , b, c){\n",
    "    \n",
    "    N     <- 10000           #number of trying points\n",
    "    \n",
    "    x <- runif(N,a,b)\n",
    "    y <- runif(N,0,max.y)\n",
    "    accepted.x <- vector()\n",
    "    accepted.y <- vector()\n",
    "    \n",
    "    for (i in seq(1,1000)) {if (y[i] < tring.func(x[i], a, b, c)){\n",
    "        accepted.x <- append(accepted.x, x[i])\n",
    "        accepted.y <- append(accepted.y, y[i])\n",
    "    }}\n",
    "    \n",
    "    df <- data.frame(X = accepted.x , Y = accepted.y)\n",
    "    return(df)\n",
    "}"
   ]
  },
  {
   "cell_type": "code",
   "execution_count": 188,
   "id": "cdc25a1e",
   "metadata": {},
   "outputs": [
    {
     "name": "stdout",
     "output_type": "stream",
     "text": [
      "         X\n",
      "1 7.429732\n",
      "2 7.463793\n",
      "3 2.020444\n",
      "4 2.587719\n",
      "5 4.444627\n",
      "6 3.025682\n"
     ]
    }
   ],
   "source": [
    "df <- random.generator(tring.func, 1, 9, 2.5)\n",
    "#nuumbers generated via triang dist:\n",
    "print(head(df[1]))"
   ]
  },
  {
   "cell_type": "code",
   "execution_count": 212,
   "id": "a478fdab",
   "metadata": {},
   "outputs": [],
   "source": [
    "X    <- seq(1,9,0.01)\n",
    "F <- vector()\n",
    "for (x in X){F <- append(F, tring.func(x, 1, 9, 2.5))}\n",
    "DF <- data.frame(analytic = F)"
   ]
  },
  {
   "cell_type": "code",
   "execution_count": 47,
   "id": "d06af290",
   "metadata": {},
   "outputs": [
    {
     "ename": "ERROR",
     "evalue": "Error in random.generator(tring.func, 1, 9, 2.5): could not find function \"random.generator\"\n",
     "output_type": "error",
     "traceback": [
      "Error in random.generator(tring.func, 1, 9, 2.5): could not find function \"random.generator\"\nTraceback:\n"
     ]
    }
   ],
   "source": [
    "DF$X <- random.generator(tring.func, 1, 9, 2.5)"
   ]
  },
  {
   "cell_type": "code",
   "execution_count": 191,
   "id": "f6ac02b1",
   "metadata": {},
   "outputs": [
    {
     "name": "stderr",
     "output_type": "stream",
     "text": [
      "Warning message in if (a <= x & x < c) {:\n",
      "\"the condition has length > 1 and only the first element will be used\"Warning message:\n",
      "\"Removed 2 rows containing missing values (geom_bar).\""
     ]
    },
    {
     "data": {
      "image/png": "[encoded data removed]",
      "text/plain": [
       "plot without title"
      ]
     },
     "metadata": {},
     "output_type": "display_data"
    }
   ],
   "source": [
    "#part c\n",
    "\n",
    "ggplot(df, aes(x=X)) +\n",
    "    geom_histogram(aes(y=..count../sum(..count..)), color=\"black\", fill=\"white\", bins=50) +\n",
    "    labs(title = \" Generated Rand Number from the Triangular Distribution\",\n",
    "    x = \"X\",\n",
    "    y = \"frequency\") "
   ]
  },
  {
   "cell_type": "code",
   "execution_count": 201,
   "id": "d8c2e938",
   "metadata": {},
   "outputs": [
    {
     "name": "stderr",
     "output_type": "stream",
     "text": [
      "Warning message in if (a <= x & x < c) {:\n",
      "\"the condition has length > 1 and only the first element will be used\""
     ]
    },
    {
     "data": {
      "image/png": "[encoded data removed]",
      "text/plain": [
       "plot without title"
      ]
     },
     "metadata": {},
     "output_type": "display_data"
    }
   ],
   "source": [
    "ggplot(df, aes(x=X))+ \n",
    "    stat_function(fun = tring.func, args = list(a =1, b=9, c=2.5)) + xlim(1,9)"
   ]
  },
  {
   "cell_type": "markdown",
   "id": "86f238b2",
   "metadata": {},
   "source": [
    "## Exercise 2 - Markov’s inequality"
   ]
  },
  {
   "cell_type": "code",
   "execution_count": 330,
   "id": "24cd7e01",
   "metadata": {},
   "outputs": [
    {
     "data": {
      "image/png": "[encoded data removed]",
      "text/plain": [
       "plot without title"
      ]
     },
     "metadata": {},
     "output_type": "display_data"
    }
   ],
   "source": [
    "X    <- seq(0,10,0.01)\n",
    "DF   <- data.frame(X=X, markov.bound = mean(X)/X)                       \n",
    "\n",
    "Gexp    <- function(){\n",
    "    Gexp.func <- function(x){return(1- dexp(x, rate = 1))}\n",
    "    exp <- vector()\n",
    "    for (x in X){exp <- append(exp, Gexp.func(x))}\n",
    "    DF$G.EXP <<- exp} \n",
    "Gexp()\n",
    "\n",
    "\n",
    "ggplot(data = DF, aes(x = X)) +\n",
    "  geom_line(aes(y = G.EXP,        colour = \"G.UNI\")) + \n",
    "  geom_line(aes(y = markov.bound, colour = \"Markov.Bound\"), linetype = \"dashed\") + ylim(0,2)"
   ]
  },
  {
   "cell_type": "code",
   "execution_count": 331,
   "id": "0a6ea779",
   "metadata": {},
   "outputs": [
    {
     "data": {
      "image/png": "[encoded data removed]",
      "text/plain": [
       "plot without title"
      ]
     },
     "metadata": {},
     "output_type": "display_data"
    }
   ],
   "source": [
    "X    <- seq(3,5,0.01)\n",
    "DF   <- data.frame(X=X, markov.bound = mean(X)/X)   \n",
    "Guni    <- function(){\n",
    "    Guni.func <- function(x){return(1- dunif(x, min= 3, max= 5))}\n",
    "    uni <- vector()\n",
    "    for (x in X){uni <- append(uni, Guni.func(x))}\n",
    "    DF$G.UNI <<- uni}\n",
    "\n",
    "Guni()\n",
    "\n",
    "ggplot(data = DF, aes(x = X)) +\n",
    "  geom_line(aes(y = G.UNI, colour = \"G.UNI\")) + \n",
    "  geom_line(aes(y = markov.bound, colour = \"Markov.Bound\"), linetype = \"dashed\")"
   ]
  },
  {
   "cell_type": "code",
   "execution_count": 332,
   "id": "f1207a52",
   "metadata": {},
   "outputs": [
    {
     "name": "stderr",
     "output_type": "stream",
     "text": [
      "Warning message:\n",
      "\"Removed 987 row(s) containing missing values (geom_path).\""
     ]
    },
    {
     "data": {
      "image/png": "[encoded data removed]",
      "text/plain": [
       "plot without title"
      ]
     },
     "metadata": {},
     "output_type": "display_data"
    }
   ],
   "source": [
    "X    <- seq(1,1000,1)\n",
    "DF   <- data.frame(X=X, markov.bound = mean(X)/X)   \n",
    "\n",
    "Gbino    <- function(){\n",
    "    Gbinom.func <- function(x){return(1- dbinom(x,size = 1000,  p = 1/2))}\n",
    "    binom <- vector()\n",
    "    for (x in X){binom <- append(binom, Gbinom.func(x))}\n",
    "    DF$G.BINOM <<- binom}    \n",
    "Gbino()\n",
    "       \n",
    "ggplot(data = DF, aes(x = X)) +\n",
    "  geom_line(aes(y = G.BINOM     , colour = \"G.BINOM\")) + \n",
    "  geom_line(aes(y = markov.bound, colour = \"Markov.Bound\"), linetype = \"dashed\") + ylim(0.975,1)"
   ]
  },
  {
   "cell_type": "code",
   "execution_count": 334,
   "id": "574cd8cc",
   "metadata": {},
   "outputs": [
    {
     "data": {
      "image/png": "[encoded data removed]",
      "text/plain": [
       "plot without title"
      ]
     },
     "metadata": {},
     "output_type": "display_data"
    }
   ],
   "source": [
    "X    <- seq(0,10,1)\n",
    "DF   <- data.frame(X=X, markov.bound = mean(X)/X)   \n",
    "\n",
    "Gpoiss    <- function(){\n",
    "    Gpois.func <- function(x){return(1- dpois(x, lambda = 1/2))}\n",
    "    pois <- vector()\n",
    "    for (x in X){pois <- append(pois, Gpois.func(x))}\n",
    "    DF$G.POIS <<- pois}    \n",
    "Gpoiss()\n",
    "\n",
    "ggplot(data = DF, aes(x = X)) +\n",
    "  geom_line(aes(y = G.POIS     , colour = \"G.POISS\")) + \n",
    "  geom_line(aes(y = markov.bound, colour = \"Markov.Bound\"), linetype = \"dashed\") + ylim(0.25,1.5)"
   ]
  },
  {
   "cell_type": "markdown",
   "id": "f3a9b475",
   "metadata": {},
   "source": [
    "## Exercise 3 - Chebyshev’s inequality"
   ]
  },
  {
   "cell_type": "code",
   "execution_count": null,
   "id": "c3836c64",
   "metadata": {},
   "outputs": [],
   "source": [
    "a) a normal distribution, N(µ = 3, σ = 5)\n",
    "a) an exponential distribution, Exp(λ = 1)\n",
    "d) a Poisson, Pois(λ = 1/3), distribution function"
   ]
  },
  {
   "cell_type": "code",
   "execution_count": null,
   "id": "ffa1d866",
   "metadata": {},
   "outputs": [],
   "source": [
    "#poiss\n",
    "\n",
    "X    <- seq(0,10,1)\n",
    "DF   <- data.frame(X=X,  = mean(X)/X)   \n",
    "\n",
    "Gpoiss    <- function(){\n",
    "    Gpois.func <- function(x){return(1- dpois(x, lambda = 1/2))}\n",
    "    pois <- vector()\n",
    "    for (x in X){pois <- append(pois, Gpois.func(x))}\n",
    "    DF$G.POIS <<- pois}    \n",
    "Gpoiss()\n",
    "\n",
    "ggplot(data = DF, aes(x = X)) +\n",
    "  geom_line(aes(y = G.POIS     , colour = \"G.POISS\")) + \n",
    "  geom_line(aes(y = markov.bound, colour = \"Markov.Bound\"), linetype = \"dashed\") + ylim(0.25,1.5)"
   ]
  },
  {
   "cell_type": "markdown",
   "id": "007126c5",
   "metadata": {},
   "source": [
    "## Exercise 4 - Six Boxes Toy Model : Inference"
   ]
  },
  {
   "cell_type": "code",
   "execution_count": 40,
   "id": "5489e777",
   "metadata": {},
   "outputs": [
    {
     "name": "stdout",
     "output_type": "stream",
     "text": [
      "Ball Extraction 1 (white) or 0 (black) or exit:1\n",
      "Ball Extraction 1 (white) or 0 (black) or exit:1\n",
      "Ball Extraction 1 (white) or 0 (black) or exit:1\n",
      "Ball Extraction 1 (white) or 0 (black) or exit:1\n",
      "Ball Extraction 1 (white) or 0 (black) or exit:1\n",
      "Ball Extraction 1 (white) or 0 (black) or exit:1\n",
      "Ball Extraction 1 (white) or 0 (black) or exit:0\n",
      "Ball Extraction 1 (white) or 0 (black) or exit:1\n",
      "Ball Extraction 1 (white) or 0 (black) or exit:1\n",
      "Ball Extraction 1 (white) or 0 (black) or exit:1\n",
      "Ball Extraction 1 (white) or 0 (black) or exit:1\n",
      "Ball Extraction 1 (white) or 0 (black) or exit:1\n",
      "Ball Extraction 1 (white) or 0 (black) or exit:0\n",
      "Ball Extraction 1 (white) or 0 (black) or exit:0\n",
      "Ball Extraction 1 (white) or 0 (black) or exit:1\n",
      "Ball Extraction 1 (white) or 0 (black) or exit:1\n",
      "Ball Extraction 1 (white) or 0 (black) or exit:1\n",
      "Ball Extraction 1 (white) or 0 (black) or exit:1\n",
      "Ball Extraction 1 (white) or 0 (black) or exit:1\n",
      "Ball Extraction 1 (white) or 0 (black) or exit:1\n",
      "Ball Extraction 1 (white) or 0 (black) or exit:1\n",
      "Ball Extraction 1 (white) or 0 (black) or exit:1\n",
      "Ball Extraction 1 (white) or 0 (black) or exit:1\n",
      "Ball Extraction 1 (white) or 0 (black) or exit:1\n",
      "Ball Extraction 1 (white) or 0 (black) or exit:1\n",
      "Ball Extraction 1 (white) or 0 (black) or exit:0\n",
      "Ball Extraction 1 (white) or 0 (black) or exit:1\n",
      "Ball Extraction 1 (white) or 0 (black) or exit:1\n",
      "Ball Extraction 1 (white) or 0 (black) or exit:1\n",
      "Ball Extraction 1 (white) or 0 (black) or exit:0\n",
      "Ball Extraction 1 (white) or 0 (black) or exit:1\n",
      "Ball Extraction 1 (white) or 0 (black) or exit:1\n",
      "Ball Extraction 1 (white) or 0 (black) or exit:1\n",
      "Ball Extraction 1 (white) or 0 (black) or exit:1\n",
      "Ball Extraction 1 (white) or 0 (black) or exit:exit\n"
     ]
    }
   ],
   "source": [
    "df    <- data.frame(N=0, H0=1/6 , H1=1/6 , H2=1/6 , H3=1/6 , H4=1/6 , H5=1/6)\n",
    "prob  <- rep(1/6, 6)\n",
    "j     <- c(0,1,2,3,4,5)\n",
    "state <- 0\n",
    "N     <- 0  #counting the number of tries\n",
    "\n",
    "while (state != 'exit'){\n",
    "    color <- readline(prompt = \"Ball Extraction 1 (white) or 0 (black) or exit:\")\n",
    "\n",
    "    if      (color == 1){prob <- (j/5 * prob)/sum(j/5 * prob)}\n",
    "    else if (color == 0){prob <- ((5-j)/5) * prob / sum(((5-j)/5) *prob)}\n",
    "    else    {break}\n",
    "    \n",
    "    N <- N+1\n",
    "    df[nrow(df) + 1,1:7] <- c(N,prob)}"
   ]
  },
  {
   "cell_type": "code",
   "execution_count": 42,
   "id": "5dcbecf0",
   "metadata": {},
   "outputs": [
    {
     "data": {
      "text/html": [
       "<table>\n",
       "<thead><tr><th scope=col>N</th><th scope=col>H0</th><th scope=col>H1</th><th scope=col>H2</th><th scope=col>H3</th><th scope=col>H4</th><th scope=col>H5</th></tr></thead>\n",
       "<tbody>\n",
       "\t<tr><td>0           </td><td>0.1666667   </td><td>0.1666666667</td><td>0.166666667 </td><td>0.16666667  </td><td>0.1666667   </td><td>0.1666667   </td></tr>\n",
       "\t<tr><td>1           </td><td>0.0000000   </td><td>0.0666666667</td><td>0.133333333 </td><td>0.20000000  </td><td>0.2666667   </td><td>0.3333333   </td></tr>\n",
       "\t<tr><td>2           </td><td>0.0000000   </td><td>0.0181818182</td><td>0.072727273 </td><td>0.16363636  </td><td>0.2909091   </td><td>0.4545455   </td></tr>\n",
       "\t<tr><td>3           </td><td>0.0000000   </td><td>0.0044444444</td><td>0.035555556 </td><td>0.12000000  </td><td>0.2844444   </td><td>0.5555556   </td></tr>\n",
       "\t<tr><td>4           </td><td>0.0000000   </td><td>0.0010214505</td><td>0.016343207 </td><td>0.08273749  </td><td>0.2614913   </td><td>0.6384065   </td></tr>\n",
       "\t<tr><td>5           </td><td>0.0000000   </td><td>0.0002259887</td><td>0.007231638 </td><td>0.05491525  </td><td>0.2314124   </td><td>0.7062147   </td></tr>\n",
       "</tbody>\n",
       "</table>\n"
      ],
      "text/latex": [
       "\\begin{tabular}{r|lllllll}\n",
       " N & H0 & H1 & H2 & H3 & H4 & H5\\\\\n",
       "\\hline\n",
       "\t 0            & 0.1666667    & 0.1666666667 & 0.166666667  & 0.16666667   & 0.1666667    & 0.1666667   \\\\\n",
       "\t 1            & 0.0000000    & 0.0666666667 & 0.133333333  & 0.20000000   & 0.2666667    & 0.3333333   \\\\\n",
       "\t 2            & 0.0000000    & 0.0181818182 & 0.072727273  & 0.16363636   & 0.2909091    & 0.4545455   \\\\\n",
       "\t 3            & 0.0000000    & 0.0044444444 & 0.035555556  & 0.12000000   & 0.2844444    & 0.5555556   \\\\\n",
       "\t 4            & 0.0000000    & 0.0010214505 & 0.016343207  & 0.08273749   & 0.2614913    & 0.6384065   \\\\\n",
       "\t 5            & 0.0000000    & 0.0002259887 & 0.007231638  & 0.05491525   & 0.2314124    & 0.7062147   \\\\\n",
       "\\end{tabular}\n"
      ],
      "text/markdown": [
       "\n",
       "| N | H0 | H1 | H2 | H3 | H4 | H5 |\n",
       "|---|---|---|---|---|---|---|\n",
       "| 0            | 0.1666667    | 0.1666666667 | 0.166666667  | 0.16666667   | 0.1666667    | 0.1666667    |\n",
       "| 1            | 0.0000000    | 0.0666666667 | 0.133333333  | 0.20000000   | 0.2666667    | 0.3333333    |\n",
       "| 2            | 0.0000000    | 0.0181818182 | 0.072727273  | 0.16363636   | 0.2909091    | 0.4545455    |\n",
       "| 3            | 0.0000000    | 0.0044444444 | 0.035555556  | 0.12000000   | 0.2844444    | 0.5555556    |\n",
       "| 4            | 0.0000000    | 0.0010214505 | 0.016343207  | 0.08273749   | 0.2614913    | 0.6384065    |\n",
       "| 5            | 0.0000000    | 0.0002259887 | 0.007231638  | 0.05491525   | 0.2314124    | 0.7062147    |\n",
       "\n"
      ],
      "text/plain": [
       "  N H0        H1           H2          H3         H4        H5       \n",
       "1 0 0.1666667 0.1666666667 0.166666667 0.16666667 0.1666667 0.1666667\n",
       "2 1 0.0000000 0.0666666667 0.133333333 0.20000000 0.2666667 0.3333333\n",
       "3 2 0.0000000 0.0181818182 0.072727273 0.16363636 0.2909091 0.4545455\n",
       "4 3 0.0000000 0.0044444444 0.035555556 0.12000000 0.2844444 0.5555556\n",
       "5 4 0.0000000 0.0010214505 0.016343207 0.08273749 0.2614913 0.6384065\n",
       "6 5 0.0000000 0.0002259887 0.007231638 0.05491525 0.2314124 0.7062147"
      ]
     },
     "metadata": {},
     "output_type": "display_data"
    }
   ],
   "source": [
    "head(df)"
   ]
  },
  {
   "cell_type": "code",
   "execution_count": 46,
   "id": "29c7b9bc",
   "metadata": {},
   "outputs": [
    {
     "data": {
      "text/html": [
       "<table>\n",
       "<thead><tr><th></th><th scope=col>N</th><th scope=col>H0</th><th scope=col>H1</th><th scope=col>H2</th><th scope=col>H3</th><th scope=col>H4</th><th scope=col>H5</th></tr></thead>\n",
       "<tbody>\n",
       "\t<tr><th scope=row>35</th><td>34          </td><td>0           </td><td>3.525847e-15</td><td>4.491999e-07</td><td>0.007561881 </td><td>0.9924377   </td><td>0           </td></tr>\n",
       "</tbody>\n",
       "</table>\n"
      ],
      "text/latex": [
       "\\begin{tabular}{r|lllllll}\n",
       "  & N & H0 & H1 & H2 & H3 & H4 & H5\\\\\n",
       "\\hline\n",
       "\t35 & 34           & 0            & 3.525847e-15 & 4.491999e-07 & 0.007561881  & 0.9924377    & 0           \\\\\n",
       "\\end{tabular}\n"
      ],
      "text/markdown": [
       "\n",
       "| <!--/--> | N | H0 | H1 | H2 | H3 | H4 | H5 |\n",
       "|---|---|---|---|---|---|---|---|\n",
       "| 35 | 34           | 0            | 3.525847e-15 | 4.491999e-07 | 0.007561881  | 0.9924377    | 0            |\n",
       "\n"
      ],
      "text/plain": [
       "   N  H0 H1           H2           H3          H4        H5\n",
       "35 34 0  3.525847e-15 4.491999e-07 0.007561881 0.9924377 0 "
      ]
     },
     "metadata": {},
     "output_type": "display_data"
    }
   ],
   "source": [
    "tail(df, n= 1) #printing the final set of values"
   ]
  },
  {
   "cell_type": "code",
   "execution_count": 41,
   "id": "66a4096e",
   "metadata": {},
   "outputs": [
    {
     "data": {
      "image/png": "[encoded data removed]",
      "text/plain": [
       "plot without title"
      ]
     },
     "metadata": {},
     "output_type": "display_data"
    }
   ],
   "source": [
    "DF <- melt(df ,  id.vars = 'N', variable.name = 'series')  #reshaping the dataframe for plot purposes\n",
    "\n",
    "options(repr.plot.width=10, repr.plot.height =6)  #changing size of plots\n",
    "ggplot(data = DF, aes(x = N, y = value)) +\n",
    "    geom_point(size=1) +\n",
    "    facet_wrap(facets = vars(series))+\n",
    "    labs(title = \"Probability of Each Box after in Nth Extraction\",\n",
    "         x = \"Nth Extraction\",\n",
    "         y = \"Probability of Box\")"
   ]
  },
  {
   "cell_type": "markdown",
   "id": "4755cf48",
   "metadata": {},
   "source": [
    "## Exercise 5 - Six Boxes Toy Model : simulation"
   ]
  },
  {
   "cell_type": "code",
   "execution_count": 113,
   "id": "d7c254f0",
   "metadata": {},
   "outputs": [],
   "source": [
    "df    <- data.frame(N=0, H0=1/6 , H1=1/6 , H2=1/6 , H3=1/6 , H4=1/6 , H5=1/6)\n",
    "prob  <- rep(1/6, 6)\n",
    "j     <- c(0,1,2,3,4,5)\n",
    "N     <- 0  #counting the number of tries\n",
    "\n",
    "selected.box <- sample(j, 1)\n",
    "box <- append(box, rep('white', selected.box))\n",
    "box <- append(box, rep('black', 5-selected.box))\n",
    "\n",
    "for (i in seq(1,20)){\n",
    "    \n",
    "    color <- sample(box, 1) #color of the extracted stone\n",
    "\n",
    "    if      (color == 'white'){prob <- (j/5 * prob)/sum(j/5 * prob)}\n",
    "    else if (color == 'black'){prob <- ((5-j)/5) * prob / sum(((5-j)/5) *prob)}\n",
    "    \n",
    "    N <- N+1\n",
    "    df[nrow(df) + 1,1:7] <- c(N,prob)}"
   ]
  },
  {
   "cell_type": "code",
   "execution_count": 114,
   "id": "06a5ebe9",
   "metadata": {},
   "outputs": [
    {
     "data": {
      "text/html": [
       "<table>\n",
       "<thead><tr><th scope=col>N</th><th scope=col>H0</th><th scope=col>H1</th><th scope=col>H2</th><th scope=col>H3</th><th scope=col>H4</th><th scope=col>H5</th></tr></thead>\n",
       "<tbody>\n",
       "\t<tr><td>0         </td><td>0.1666667 </td><td>0.1666667 </td><td>0.1666667 </td><td>0.1666667 </td><td>0.16666667</td><td>0.1666667 </td></tr>\n",
       "\t<tr><td>1         </td><td>0.3333333 </td><td>0.2666667 </td><td>0.2000000 </td><td>0.1333333 </td><td>0.06666667</td><td>0.0000000 </td></tr>\n",
       "\t<tr><td>2         </td><td>0.3333333 </td><td>0.2666667 </td><td>0.2000000 </td><td>0.1333333 </td><td>0.06666667</td><td>0.0000000 </td></tr>\n",
       "\t<tr><td>3         </td><td>0.0000000 </td><td>0.2000000 </td><td>0.3000000 </td><td>0.3000000 </td><td>0.20000000</td><td>0.0000000 </td></tr>\n",
       "\t<tr><td>4         </td><td>0.0000000 </td><td>0.0800000 </td><td>0.2400000 </td><td>0.3600000 </td><td>0.32000000</td><td>0.0000000 </td></tr>\n",
       "\t<tr><td>5         </td><td>0.0000000 </td><td>0.1538462 </td><td>0.3461538 </td><td>0.3461538 </td><td>0.15384615</td><td>0.0000000 </td></tr>\n",
       "</tbody>\n",
       "</table>\n"
      ],
      "text/latex": [
       "\\begin{tabular}{r|lllllll}\n",
       " N & H0 & H1 & H2 & H3 & H4 & H5\\\\\n",
       "\\hline\n",
       "\t 0          & 0.1666667  & 0.1666667  & 0.1666667  & 0.1666667  & 0.16666667 & 0.1666667 \\\\\n",
       "\t 1          & 0.3333333  & 0.2666667  & 0.2000000  & 0.1333333  & 0.06666667 & 0.0000000 \\\\\n",
       "\t 2          & 0.3333333  & 0.2666667  & 0.2000000  & 0.1333333  & 0.06666667 & 0.0000000 \\\\\n",
       "\t 3          & 0.0000000  & 0.2000000  & 0.3000000  & 0.3000000  & 0.20000000 & 0.0000000 \\\\\n",
       "\t 4          & 0.0000000  & 0.0800000  & 0.2400000  & 0.3600000  & 0.32000000 & 0.0000000 \\\\\n",
       "\t 5          & 0.0000000  & 0.1538462  & 0.3461538  & 0.3461538  & 0.15384615 & 0.0000000 \\\\\n",
       "\\end{tabular}\n"
      ],
      "text/markdown": [
       "\n",
       "| N | H0 | H1 | H2 | H3 | H4 | H5 |\n",
       "|---|---|---|---|---|---|---|\n",
       "| 0          | 0.1666667  | 0.1666667  | 0.1666667  | 0.1666667  | 0.16666667 | 0.1666667  |\n",
       "| 1          | 0.3333333  | 0.2666667  | 0.2000000  | 0.1333333  | 0.06666667 | 0.0000000  |\n",
       "| 2          | 0.3333333  | 0.2666667  | 0.2000000  | 0.1333333  | 0.06666667 | 0.0000000  |\n",
       "| 3          | 0.0000000  | 0.2000000  | 0.3000000  | 0.3000000  | 0.20000000 | 0.0000000  |\n",
       "| 4          | 0.0000000  | 0.0800000  | 0.2400000  | 0.3600000  | 0.32000000 | 0.0000000  |\n",
       "| 5          | 0.0000000  | 0.1538462  | 0.3461538  | 0.3461538  | 0.15384615 | 0.0000000  |\n",
       "\n"
      ],
      "text/plain": [
       "  N H0        H1        H2        H3        H4         H5       \n",
       "1 0 0.1666667 0.1666667 0.1666667 0.1666667 0.16666667 0.1666667\n",
       "2 1 0.3333333 0.2666667 0.2000000 0.1333333 0.06666667 0.0000000\n",
       "3 2 0.3333333 0.2666667 0.2000000 0.1333333 0.06666667 0.0000000\n",
       "4 3 0.0000000 0.2000000 0.3000000 0.3000000 0.20000000 0.0000000\n",
       "5 4 0.0000000 0.0800000 0.2400000 0.3600000 0.32000000 0.0000000\n",
       "6 5 0.0000000 0.1538462 0.3461538 0.3461538 0.15384615 0.0000000"
      ]
     },
     "metadata": {},
     "output_type": "display_data"
    }
   ],
   "source": [
    "head(df)"
   ]
  },
  {
   "cell_type": "code",
   "execution_count": 115,
   "id": "1f59b8c9",
   "metadata": {},
   "outputs": [
    {
     "data": {
      "text/html": [
       "<table>\n",
       "<thead><tr><th></th><th scope=col>N</th><th scope=col>H0</th><th scope=col>H1</th><th scope=col>H2</th><th scope=col>H3</th><th scope=col>H4</th><th scope=col>H5</th></tr></thead>\n",
       "<tbody>\n",
       "\t<tr><th scope=row>21</th><td>20         </td><td>0          </td><td>0.001039488</td><td>0.2131276  </td><td>0.7193057  </td><td>0.06652726 </td><td>0          </td></tr>\n",
       "</tbody>\n",
       "</table>\n"
      ],
      "text/latex": [
       "\\begin{tabular}{r|lllllll}\n",
       "  & N & H0 & H1 & H2 & H3 & H4 & H5\\\\\n",
       "\\hline\n",
       "\t21 & 20          & 0           & 0.001039488 & 0.2131276   & 0.7193057   & 0.06652726  & 0          \\\\\n",
       "\\end{tabular}\n"
      ],
      "text/markdown": [
       "\n",
       "| <!--/--> | N | H0 | H1 | H2 | H3 | H4 | H5 |\n",
       "|---|---|---|---|---|---|---|---|\n",
       "| 21 | 20          | 0           | 0.001039488 | 0.2131276   | 0.7193057   | 0.06652726  | 0           |\n",
       "\n"
      ],
      "text/plain": [
       "   N  H0 H1          H2        H3        H4         H5\n",
       "21 20 0  0.001039488 0.2131276 0.7193057 0.06652726 0 "
      ]
     },
     "metadata": {},
     "output_type": "display_data"
    }
   ],
   "source": [
    "tail(df, n= 1) #printing the final set of values"
   ]
  },
  {
   "cell_type": "code",
   "execution_count": 117,
   "id": "ff98d678",
   "metadata": {},
   "outputs": [
    {
     "data": {
      "image/png": "[encoded data removed]",
      "text/plain": [
       "plot without title"
      ]
     },
     "metadata": {},
     "output_type": "display_data"
    }
   ],
   "source": [
    "DF <- melt(df ,  id.vars = 'N', variable.name = 'series')  #reshaping the dataframe for plot purposes\n",
    "\n",
    "options(repr.plot.width=10, repr.plot.height =6)  #changing size of plots\n",
    "ggplot(data = DF, aes(x = N, y = value)) +\n",
    "    geom_point(size=1) +\n",
    "    facet_wrap(facets = vars(series))+\n",
    "    labs(title = \"Probability of Each Box after in Nth Extraction (Simulation)\",\n",
    "         x = \"Nth Extraction\",\n",
    "         y = \"Probability of Box\")"
   ]
  }
 ],
 "metadata": {
  "kernelspec": {
   "display_name": "R",
   "language": "R",
   "name": "ir"
  },
  "language_info": {
   "codemirror_mode": "r",
   "file_extension": ".r",
   "mimetype": "text/x-r-source",
   "name": "R",
   "pygments_lexer": "r",
   "version": "3.6.1"
  }
 },
 "nbformat": 4,
 "nbformat_minor": 5
}
